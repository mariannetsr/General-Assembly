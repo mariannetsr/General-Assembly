{
 "cells": [
  {
   "cell_type": "markdown",
   "metadata": {},
   "source": [
    "## Modeling"
   ]
  },
  {
   "cell_type": "code",
   "execution_count": 96,
   "metadata": {},
   "outputs": [],
   "source": [
    "#Importing libraries \n",
    "\n",
    "import pandas as pd\n",
    "import numpy as np\n",
    "import seaborn as sns\n",
    "import matplotlib.pyplot as plt\n",
    "import scipy.stats as stats\n",
    "\n",
    "plt.style.use('fivethirtyeight')\n",
    "%config InlineBackend.figure_format = 'retina'\n",
    "%matplotlib inline\n",
    "\n",
    "from sklearn import metrics\n",
    "from sklearn.metrics import precision_recall_curve, plot_precision_recall_curve, classification_report, confusion_matrix,accuracy_score, roc_auc_score, roc_curve, auc\n",
    "from sklearn.pipeline import Pipeline\n",
    "from sklearn.model_selection import cross_val_score, train_test_split, RandomizedSearchCV, GridSearchCV\n",
    "from sklearn.linear_model import LinearRegression, Lasso, LassoCV, Ridge, RidgeCV, ElasticNet, ElasticNetCV, LogisticRegression\n",
    "from sklearn.neighbors import KNeighborsClassifier\n",
    "from sklearn.tree import DecisionTreeRegressor\n",
    "from sklearn.ensemble import RandomForestRegressor, RandomForestClassifier\n",
    "from sklearn.dummy import DummyRegressor\n",
    "from sklearn.preprocessing import StandardScaler, scale, MinMaxScaler, normalize\n",
    "from xgboost import XGBClassifier"
   ]
  },
  {
   "cell_type": "code",
   "execution_count": 17,
   "metadata": {},
   "outputs": [],
   "source": [
    "gun_df = pd.read_csv('./data/gun_violence_cleaned.csv')"
   ]
  },
  {
   "cell_type": "code",
   "execution_count": 18,
   "metadata": {},
   "outputs": [
    {
     "data": {
      "text/html": [
       "<div>\n",
       "<style scoped>\n",
       "    .dataframe tbody tr th:only-of-type {\n",
       "        vertical-align: middle;\n",
       "    }\n",
       "\n",
       "    .dataframe tbody tr th {\n",
       "        vertical-align: top;\n",
       "    }\n",
       "\n",
       "    .dataframe thead th {\n",
       "        text-align: right;\n",
       "    }\n",
       "</style>\n",
       "<table border=\"1\" class=\"dataframe\">\n",
       "  <thead>\n",
       "    <tr style=\"text-align: right;\">\n",
       "      <th></th>\n",
       "      <th>incident_id</th>\n",
       "      <th>date</th>\n",
       "      <th>state</th>\n",
       "      <th>city_or_county</th>\n",
       "      <th>n_killed</th>\n",
       "      <th>n_injured</th>\n",
       "      <th>congressional_district</th>\n",
       "      <th>latitude</th>\n",
       "      <th>longitude</th>\n",
       "      <th>state_house_district</th>\n",
       "      <th>...</th>\n",
       "      <th>year</th>\n",
       "      <th>month</th>\n",
       "      <th>day</th>\n",
       "      <th>day_of_week</th>\n",
       "      <th>agegroup_child</th>\n",
       "      <th>agegroup_teen</th>\n",
       "      <th>agegroup_adult</th>\n",
       "      <th>agegroup_unknown</th>\n",
       "      <th>num_males</th>\n",
       "      <th>num_females</th>\n",
       "    </tr>\n",
       "  </thead>\n",
       "  <tbody>\n",
       "    <tr>\n",
       "      <th>0</th>\n",
       "      <td>95289</td>\n",
       "      <td>2014-01-01</td>\n",
       "      <td>Michigan</td>\n",
       "      <td>Muskegon</td>\n",
       "      <td>0</td>\n",
       "      <td>0</td>\n",
       "      <td>2.0</td>\n",
       "      <td>43.2301</td>\n",
       "      <td>-86.2514</td>\n",
       "      <td>92.0</td>\n",
       "      <td>...</td>\n",
       "      <td>2014</td>\n",
       "      <td>Jan</td>\n",
       "      <td>1</td>\n",
       "      <td>Wed</td>\n",
       "      <td>0</td>\n",
       "      <td>0</td>\n",
       "      <td>1</td>\n",
       "      <td>0</td>\n",
       "      <td>0</td>\n",
       "      <td>1</td>\n",
       "    </tr>\n",
       "    <tr>\n",
       "      <th>1</th>\n",
       "      <td>92401</td>\n",
       "      <td>2014-01-01</td>\n",
       "      <td>New Jersey</td>\n",
       "      <td>Newark</td>\n",
       "      <td>0</td>\n",
       "      <td>0</td>\n",
       "      <td>10.0</td>\n",
       "      <td>40.7417</td>\n",
       "      <td>-74.1695</td>\n",
       "      <td>29.0</td>\n",
       "      <td>...</td>\n",
       "      <td>2014</td>\n",
       "      <td>Jan</td>\n",
       "      <td>1</td>\n",
       "      <td>Wed</td>\n",
       "      <td>0</td>\n",
       "      <td>0</td>\n",
       "      <td>0</td>\n",
       "      <td>1</td>\n",
       "      <td>0</td>\n",
       "      <td>0</td>\n",
       "    </tr>\n",
       "    <tr>\n",
       "      <th>2</th>\n",
       "      <td>92383</td>\n",
       "      <td>2014-01-01</td>\n",
       "      <td>New York</td>\n",
       "      <td>Queens</td>\n",
       "      <td>1</td>\n",
       "      <td>0</td>\n",
       "      <td>5.0</td>\n",
       "      <td>40.7034</td>\n",
       "      <td>-73.7474</td>\n",
       "      <td>33.0</td>\n",
       "      <td>...</td>\n",
       "      <td>2014</td>\n",
       "      <td>Jan</td>\n",
       "      <td>1</td>\n",
       "      <td>Wed</td>\n",
       "      <td>0</td>\n",
       "      <td>0</td>\n",
       "      <td>2</td>\n",
       "      <td>0</td>\n",
       "      <td>2</td>\n",
       "      <td>0</td>\n",
       "    </tr>\n",
       "    <tr>\n",
       "      <th>3</th>\n",
       "      <td>92142</td>\n",
       "      <td>2014-01-01</td>\n",
       "      <td>New York</td>\n",
       "      <td>Brooklyn</td>\n",
       "      <td>0</td>\n",
       "      <td>1</td>\n",
       "      <td>9.0</td>\n",
       "      <td>40.6715</td>\n",
       "      <td>-73.9476</td>\n",
       "      <td>43.0</td>\n",
       "      <td>...</td>\n",
       "      <td>2014</td>\n",
       "      <td>Jan</td>\n",
       "      <td>1</td>\n",
       "      <td>Wed</td>\n",
       "      <td>0</td>\n",
       "      <td>0</td>\n",
       "      <td>2</td>\n",
       "      <td>0</td>\n",
       "      <td>2</td>\n",
       "      <td>0</td>\n",
       "    </tr>\n",
       "    <tr>\n",
       "      <th>4</th>\n",
       "      <td>95261</td>\n",
       "      <td>2014-01-01</td>\n",
       "      <td>Missouri</td>\n",
       "      <td>Springfield</td>\n",
       "      <td>0</td>\n",
       "      <td>1</td>\n",
       "      <td>7.0</td>\n",
       "      <td>37.2646</td>\n",
       "      <td>-93.3007</td>\n",
       "      <td>131.0</td>\n",
       "      <td>...</td>\n",
       "      <td>2014</td>\n",
       "      <td>Jan</td>\n",
       "      <td>1</td>\n",
       "      <td>Wed</td>\n",
       "      <td>1</td>\n",
       "      <td>1</td>\n",
       "      <td>0</td>\n",
       "      <td>0</td>\n",
       "      <td>0</td>\n",
       "      <td>1</td>\n",
       "    </tr>\n",
       "  </tbody>\n",
       "</table>\n",
       "<p>5 rows × 21 columns</p>\n",
       "</div>"
      ],
      "text/plain": [
       "   incident_id        date       state city_or_county  n_killed  n_injured  \\\n",
       "0        95289  2014-01-01    Michigan       Muskegon         0          0   \n",
       "1        92401  2014-01-01  New Jersey         Newark         0          0   \n",
       "2        92383  2014-01-01    New York         Queens         1          0   \n",
       "3        92142  2014-01-01    New York       Brooklyn         0          1   \n",
       "4        95261  2014-01-01    Missouri    Springfield         0          1   \n",
       "\n",
       "   congressional_district  latitude  longitude  state_house_district  ...  \\\n",
       "0                     2.0   43.2301   -86.2514                  92.0  ...   \n",
       "1                    10.0   40.7417   -74.1695                  29.0  ...   \n",
       "2                     5.0   40.7034   -73.7474                  33.0  ...   \n",
       "3                     9.0   40.6715   -73.9476                  43.0  ...   \n",
       "4                     7.0   37.2646   -93.3007                 131.0  ...   \n",
       "\n",
       "   year  month day  day_of_week agegroup_child  agegroup_teen  agegroup_adult  \\\n",
       "0  2014    Jan   1          Wed              0              0               1   \n",
       "1  2014    Jan   1          Wed              0              0               0   \n",
       "2  2014    Jan   1          Wed              0              0               2   \n",
       "3  2014    Jan   1          Wed              0              0               2   \n",
       "4  2014    Jan   1          Wed              1              1               0   \n",
       "\n",
       "   agegroup_unknown  num_males  num_females  \n",
       "0                 0          0            1  \n",
       "1                 1          0            0  \n",
       "2                 0          2            0  \n",
       "3                 0          2            0  \n",
       "4                 0          0            1  \n",
       "\n",
       "[5 rows x 21 columns]"
      ]
     },
     "execution_count": 18,
     "metadata": {},
     "output_type": "execute_result"
    }
   ],
   "source": [
    "gun_df.head()"
   ]
  },
  {
   "cell_type": "code",
   "execution_count": 19,
   "metadata": {},
   "outputs": [
    {
     "data": {
      "text/plain": [
       "1      116212\n",
       "0       97287\n",
       "2       19791\n",
       "3        4266\n",
       "4        1185\n",
       "5         372\n",
       "6         124\n",
       "7          72\n",
       "8          34\n",
       "9          18\n",
       "12          9\n",
       "10          7\n",
       "11          3\n",
       "15          3\n",
       "18          2\n",
       "17          2\n",
       "103         1\n",
       "47          1\n",
       "14          1\n",
       "16          1\n",
       "19          1\n",
       "20          1\n",
       "21          1\n",
       "25          1\n",
       "27          1\n",
       "34          1\n",
       "35          1\n",
       "13          1\n",
       "Name: n_casualties, dtype: int64"
      ]
     },
     "execution_count": 19,
     "metadata": {},
     "output_type": "execute_result"
    }
   ],
   "source": [
    "gun_df['n_casualties'] = gun_df['n_injured'] + gun_df['n_killed']\n",
    "gun_df['n_casualties'].value_counts()"
   ]
  },
  {
   "cell_type": "code",
   "execution_count": 20,
   "metadata": {},
   "outputs": [
    {
     "data": {
      "text/html": [
       "<div>\n",
       "<style scoped>\n",
       "    .dataframe tbody tr th:only-of-type {\n",
       "        vertical-align: middle;\n",
       "    }\n",
       "\n",
       "    .dataframe tbody tr th {\n",
       "        vertical-align: top;\n",
       "    }\n",
       "\n",
       "    .dataframe thead th {\n",
       "        text-align: right;\n",
       "    }\n",
       "</style>\n",
       "<table border=\"1\" class=\"dataframe\">\n",
       "  <thead>\n",
       "    <tr style=\"text-align: right;\">\n",
       "      <th></th>\n",
       "      <th>incident_id</th>\n",
       "      <th>date</th>\n",
       "      <th>state</th>\n",
       "      <th>city_or_county</th>\n",
       "      <th>n_killed</th>\n",
       "      <th>n_injured</th>\n",
       "      <th>congressional_district</th>\n",
       "      <th>latitude</th>\n",
       "      <th>longitude</th>\n",
       "      <th>state_house_district</th>\n",
       "      <th>...</th>\n",
       "      <th>day</th>\n",
       "      <th>day_of_week</th>\n",
       "      <th>agegroup_child</th>\n",
       "      <th>agegroup_teen</th>\n",
       "      <th>agegroup_adult</th>\n",
       "      <th>agegroup_unknown</th>\n",
       "      <th>num_males</th>\n",
       "      <th>num_females</th>\n",
       "      <th>n_casualties</th>\n",
       "      <th>casualties</th>\n",
       "    </tr>\n",
       "  </thead>\n",
       "  <tbody>\n",
       "    <tr>\n",
       "      <th>0</th>\n",
       "      <td>95289</td>\n",
       "      <td>2014-01-01</td>\n",
       "      <td>Michigan</td>\n",
       "      <td>Muskegon</td>\n",
       "      <td>0</td>\n",
       "      <td>0</td>\n",
       "      <td>2.0</td>\n",
       "      <td>43.2301</td>\n",
       "      <td>-86.2514</td>\n",
       "      <td>92.0</td>\n",
       "      <td>...</td>\n",
       "      <td>1</td>\n",
       "      <td>Wed</td>\n",
       "      <td>0</td>\n",
       "      <td>0</td>\n",
       "      <td>1</td>\n",
       "      <td>0</td>\n",
       "      <td>0</td>\n",
       "      <td>1</td>\n",
       "      <td>0</td>\n",
       "      <td>0</td>\n",
       "    </tr>\n",
       "    <tr>\n",
       "      <th>1</th>\n",
       "      <td>92401</td>\n",
       "      <td>2014-01-01</td>\n",
       "      <td>New Jersey</td>\n",
       "      <td>Newark</td>\n",
       "      <td>0</td>\n",
       "      <td>0</td>\n",
       "      <td>10.0</td>\n",
       "      <td>40.7417</td>\n",
       "      <td>-74.1695</td>\n",
       "      <td>29.0</td>\n",
       "      <td>...</td>\n",
       "      <td>1</td>\n",
       "      <td>Wed</td>\n",
       "      <td>0</td>\n",
       "      <td>0</td>\n",
       "      <td>0</td>\n",
       "      <td>1</td>\n",
       "      <td>0</td>\n",
       "      <td>0</td>\n",
       "      <td>0</td>\n",
       "      <td>0</td>\n",
       "    </tr>\n",
       "    <tr>\n",
       "      <th>2</th>\n",
       "      <td>92383</td>\n",
       "      <td>2014-01-01</td>\n",
       "      <td>New York</td>\n",
       "      <td>Queens</td>\n",
       "      <td>1</td>\n",
       "      <td>0</td>\n",
       "      <td>5.0</td>\n",
       "      <td>40.7034</td>\n",
       "      <td>-73.7474</td>\n",
       "      <td>33.0</td>\n",
       "      <td>...</td>\n",
       "      <td>1</td>\n",
       "      <td>Wed</td>\n",
       "      <td>0</td>\n",
       "      <td>0</td>\n",
       "      <td>2</td>\n",
       "      <td>0</td>\n",
       "      <td>2</td>\n",
       "      <td>0</td>\n",
       "      <td>1</td>\n",
       "      <td>1</td>\n",
       "    </tr>\n",
       "    <tr>\n",
       "      <th>3</th>\n",
       "      <td>92142</td>\n",
       "      <td>2014-01-01</td>\n",
       "      <td>New York</td>\n",
       "      <td>Brooklyn</td>\n",
       "      <td>0</td>\n",
       "      <td>1</td>\n",
       "      <td>9.0</td>\n",
       "      <td>40.6715</td>\n",
       "      <td>-73.9476</td>\n",
       "      <td>43.0</td>\n",
       "      <td>...</td>\n",
       "      <td>1</td>\n",
       "      <td>Wed</td>\n",
       "      <td>0</td>\n",
       "      <td>0</td>\n",
       "      <td>2</td>\n",
       "      <td>0</td>\n",
       "      <td>2</td>\n",
       "      <td>0</td>\n",
       "      <td>1</td>\n",
       "      <td>1</td>\n",
       "    </tr>\n",
       "    <tr>\n",
       "      <th>4</th>\n",
       "      <td>95261</td>\n",
       "      <td>2014-01-01</td>\n",
       "      <td>Missouri</td>\n",
       "      <td>Springfield</td>\n",
       "      <td>0</td>\n",
       "      <td>1</td>\n",
       "      <td>7.0</td>\n",
       "      <td>37.2646</td>\n",
       "      <td>-93.3007</td>\n",
       "      <td>131.0</td>\n",
       "      <td>...</td>\n",
       "      <td>1</td>\n",
       "      <td>Wed</td>\n",
       "      <td>1</td>\n",
       "      <td>1</td>\n",
       "      <td>0</td>\n",
       "      <td>0</td>\n",
       "      <td>0</td>\n",
       "      <td>1</td>\n",
       "      <td>1</td>\n",
       "      <td>1</td>\n",
       "    </tr>\n",
       "  </tbody>\n",
       "</table>\n",
       "<p>5 rows × 23 columns</p>\n",
       "</div>"
      ],
      "text/plain": [
       "   incident_id        date       state city_or_county  n_killed  n_injured  \\\n",
       "0        95289  2014-01-01    Michigan       Muskegon         0          0   \n",
       "1        92401  2014-01-01  New Jersey         Newark         0          0   \n",
       "2        92383  2014-01-01    New York         Queens         1          0   \n",
       "3        92142  2014-01-01    New York       Brooklyn         0          1   \n",
       "4        95261  2014-01-01    Missouri    Springfield         0          1   \n",
       "\n",
       "   congressional_district  latitude  longitude  state_house_district  ...  \\\n",
       "0                     2.0   43.2301   -86.2514                  92.0  ...   \n",
       "1                    10.0   40.7417   -74.1695                  29.0  ...   \n",
       "2                     5.0   40.7034   -73.7474                  33.0  ...   \n",
       "3                     9.0   40.6715   -73.9476                  43.0  ...   \n",
       "4                     7.0   37.2646   -93.3007                 131.0  ...   \n",
       "\n",
       "   day  day_of_week agegroup_child  agegroup_teen agegroup_adult  \\\n",
       "0    1          Wed              0              0              1   \n",
       "1    1          Wed              0              0              0   \n",
       "2    1          Wed              0              0              2   \n",
       "3    1          Wed              0              0              2   \n",
       "4    1          Wed              1              1              0   \n",
       "\n",
       "   agegroup_unknown  num_males  num_females  n_casualties  casualties  \n",
       "0                 0          0            1             0           0  \n",
       "1                 1          0            0             0           0  \n",
       "2                 0          2            0             1           1  \n",
       "3                 0          2            0             1           1  \n",
       "4                 0          0            1             1           1  \n",
       "\n",
       "[5 rows x 23 columns]"
      ]
     },
     "execution_count": 20,
     "metadata": {},
     "output_type": "execute_result"
    }
   ],
   "source": [
    "gun_df['casualties'] = [1 if i > 0 else 0 for i in gun_df['n_casualties']]\n",
    "gun_df.head()"
   ]
  },
  {
   "cell_type": "code",
   "execution_count": 21,
   "metadata": {},
   "outputs": [],
   "source": [
    "gun_df.drop(['incident_id', 'date', 'city_or_county', 'n_casualties', 'n_killed', 'n_injured'], axis=1, inplace=True)"
   ]
  },
  {
   "cell_type": "code",
   "execution_count": 22,
   "metadata": {},
   "outputs": [
    {
     "data": {
      "text/html": [
       "<div>\n",
       "<style scoped>\n",
       "    .dataframe tbody tr th:only-of-type {\n",
       "        vertical-align: middle;\n",
       "    }\n",
       "\n",
       "    .dataframe tbody tr th {\n",
       "        vertical-align: top;\n",
       "    }\n",
       "\n",
       "    .dataframe thead th {\n",
       "        text-align: right;\n",
       "    }\n",
       "</style>\n",
       "<table border=\"1\" class=\"dataframe\">\n",
       "  <thead>\n",
       "    <tr style=\"text-align: right;\">\n",
       "      <th></th>\n",
       "      <th>month</th>\n",
       "      <th>year</th>\n",
       "      <th>day_of_week</th>\n",
       "      <th>day</th>\n",
       "      <th>state</th>\n",
       "    </tr>\n",
       "  </thead>\n",
       "  <tbody>\n",
       "    <tr>\n",
       "      <th>0</th>\n",
       "      <td>Jan</td>\n",
       "      <td>2014</td>\n",
       "      <td>Wed</td>\n",
       "      <td>1</td>\n",
       "      <td>Michigan</td>\n",
       "    </tr>\n",
       "    <tr>\n",
       "      <th>1</th>\n",
       "      <td>Jan</td>\n",
       "      <td>2014</td>\n",
       "      <td>Wed</td>\n",
       "      <td>1</td>\n",
       "      <td>New Jersey</td>\n",
       "    </tr>\n",
       "    <tr>\n",
       "      <th>2</th>\n",
       "      <td>Jan</td>\n",
       "      <td>2014</td>\n",
       "      <td>Wed</td>\n",
       "      <td>1</td>\n",
       "      <td>New York</td>\n",
       "    </tr>\n",
       "    <tr>\n",
       "      <th>3</th>\n",
       "      <td>Jan</td>\n",
       "      <td>2014</td>\n",
       "      <td>Wed</td>\n",
       "      <td>1</td>\n",
       "      <td>New York</td>\n",
       "    </tr>\n",
       "    <tr>\n",
       "      <th>4</th>\n",
       "      <td>Jan</td>\n",
       "      <td>2014</td>\n",
       "      <td>Wed</td>\n",
       "      <td>1</td>\n",
       "      <td>Missouri</td>\n",
       "    </tr>\n",
       "    <tr>\n",
       "      <th>...</th>\n",
       "      <td>...</td>\n",
       "      <td>...</td>\n",
       "      <td>...</td>\n",
       "      <td>...</td>\n",
       "      <td>...</td>\n",
       "    </tr>\n",
       "    <tr>\n",
       "      <th>239394</th>\n",
       "      <td>Mar</td>\n",
       "      <td>2018</td>\n",
       "      <td>Sat</td>\n",
       "      <td>31</td>\n",
       "      <td>Louisiana</td>\n",
       "    </tr>\n",
       "    <tr>\n",
       "      <th>239395</th>\n",
       "      <td>Mar</td>\n",
       "      <td>2018</td>\n",
       "      <td>Sat</td>\n",
       "      <td>31</td>\n",
       "      <td>Louisiana</td>\n",
       "    </tr>\n",
       "    <tr>\n",
       "      <th>239396</th>\n",
       "      <td>Mar</td>\n",
       "      <td>2018</td>\n",
       "      <td>Sat</td>\n",
       "      <td>31</td>\n",
       "      <td>Louisiana</td>\n",
       "    </tr>\n",
       "    <tr>\n",
       "      <th>239397</th>\n",
       "      <td>Mar</td>\n",
       "      <td>2018</td>\n",
       "      <td>Sat</td>\n",
       "      <td>31</td>\n",
       "      <td>Texas</td>\n",
       "    </tr>\n",
       "    <tr>\n",
       "      <th>239398</th>\n",
       "      <td>Mar</td>\n",
       "      <td>2018</td>\n",
       "      <td>Sat</td>\n",
       "      <td>31</td>\n",
       "      <td>Maine</td>\n",
       "    </tr>\n",
       "  </tbody>\n",
       "</table>\n",
       "<p>239399 rows × 5 columns</p>\n",
       "</div>"
      ],
      "text/plain": [
       "       month  year day_of_week  day       state\n",
       "0        Jan  2014         Wed    1    Michigan\n",
       "1        Jan  2014         Wed    1  New Jersey\n",
       "2        Jan  2014         Wed    1    New York\n",
       "3        Jan  2014         Wed    1    New York\n",
       "4        Jan  2014         Wed    1    Missouri\n",
       "...      ...   ...         ...  ...         ...\n",
       "239394   Mar  2018         Sat   31   Louisiana\n",
       "239395   Mar  2018         Sat   31   Louisiana\n",
       "239396   Mar  2018         Sat   31   Louisiana\n",
       "239397   Mar  2018         Sat   31       Texas\n",
       "239398   Mar  2018         Sat   31       Maine\n",
       "\n",
       "[239399 rows x 5 columns]"
      ]
     },
     "execution_count": 22,
     "metadata": {},
     "output_type": "execute_result"
    }
   ],
   "source": [
    "gun_df[['month','year','day_of_week','day','state']]"
   ]
  },
  {
   "cell_type": "code",
   "execution_count": 23,
   "metadata": {},
   "outputs": [
    {
     "data": {
      "text/html": [
       "<div>\n",
       "<style scoped>\n",
       "    .dataframe tbody tr th:only-of-type {\n",
       "        vertical-align: middle;\n",
       "    }\n",
       "\n",
       "    .dataframe tbody tr th {\n",
       "        vertical-align: top;\n",
       "    }\n",
       "\n",
       "    .dataframe thead th {\n",
       "        text-align: right;\n",
       "    }\n",
       "</style>\n",
       "<table border=\"1\" class=\"dataframe\">\n",
       "  <thead>\n",
       "    <tr style=\"text-align: right;\">\n",
       "      <th></th>\n",
       "      <th>congressional_district</th>\n",
       "      <th>latitude</th>\n",
       "      <th>longitude</th>\n",
       "      <th>state_house_district</th>\n",
       "      <th>state_senate_district</th>\n",
       "      <th>day</th>\n",
       "      <th>agegroup_child</th>\n",
       "      <th>agegroup_teen</th>\n",
       "      <th>agegroup_adult</th>\n",
       "      <th>agegroup_unknown</th>\n",
       "      <th>...</th>\n",
       "      <th>state_South Dakota</th>\n",
       "      <th>state_Tennessee</th>\n",
       "      <th>state_Texas</th>\n",
       "      <th>state_Utah</th>\n",
       "      <th>state_Vermont</th>\n",
       "      <th>state_Virginia</th>\n",
       "      <th>state_Washington</th>\n",
       "      <th>state_West Virginia</th>\n",
       "      <th>state_Wisconsin</th>\n",
       "      <th>state_Wyoming</th>\n",
       "    </tr>\n",
       "  </thead>\n",
       "  <tbody>\n",
       "    <tr>\n",
       "      <th>0</th>\n",
       "      <td>2.0</td>\n",
       "      <td>43.2301</td>\n",
       "      <td>-86.2514</td>\n",
       "      <td>92.0</td>\n",
       "      <td>34.0</td>\n",
       "      <td>1</td>\n",
       "      <td>0</td>\n",
       "      <td>0</td>\n",
       "      <td>1</td>\n",
       "      <td>0</td>\n",
       "      <td>...</td>\n",
       "      <td>0</td>\n",
       "      <td>0</td>\n",
       "      <td>0</td>\n",
       "      <td>0</td>\n",
       "      <td>0</td>\n",
       "      <td>0</td>\n",
       "      <td>0</td>\n",
       "      <td>0</td>\n",
       "      <td>0</td>\n",
       "      <td>0</td>\n",
       "    </tr>\n",
       "    <tr>\n",
       "      <th>1</th>\n",
       "      <td>10.0</td>\n",
       "      <td>40.7417</td>\n",
       "      <td>-74.1695</td>\n",
       "      <td>29.0</td>\n",
       "      <td>29.0</td>\n",
       "      <td>1</td>\n",
       "      <td>0</td>\n",
       "      <td>0</td>\n",
       "      <td>0</td>\n",
       "      <td>1</td>\n",
       "      <td>...</td>\n",
       "      <td>0</td>\n",
       "      <td>0</td>\n",
       "      <td>0</td>\n",
       "      <td>0</td>\n",
       "      <td>0</td>\n",
       "      <td>0</td>\n",
       "      <td>0</td>\n",
       "      <td>0</td>\n",
       "      <td>0</td>\n",
       "      <td>0</td>\n",
       "    </tr>\n",
       "    <tr>\n",
       "      <th>2</th>\n",
       "      <td>5.0</td>\n",
       "      <td>40.7034</td>\n",
       "      <td>-73.7474</td>\n",
       "      <td>33.0</td>\n",
       "      <td>14.0</td>\n",
       "      <td>1</td>\n",
       "      <td>0</td>\n",
       "      <td>0</td>\n",
       "      <td>2</td>\n",
       "      <td>0</td>\n",
       "      <td>...</td>\n",
       "      <td>0</td>\n",
       "      <td>0</td>\n",
       "      <td>0</td>\n",
       "      <td>0</td>\n",
       "      <td>0</td>\n",
       "      <td>0</td>\n",
       "      <td>0</td>\n",
       "      <td>0</td>\n",
       "      <td>0</td>\n",
       "      <td>0</td>\n",
       "    </tr>\n",
       "    <tr>\n",
       "      <th>3</th>\n",
       "      <td>9.0</td>\n",
       "      <td>40.6715</td>\n",
       "      <td>-73.9476</td>\n",
       "      <td>43.0</td>\n",
       "      <td>20.0</td>\n",
       "      <td>1</td>\n",
       "      <td>0</td>\n",
       "      <td>0</td>\n",
       "      <td>2</td>\n",
       "      <td>0</td>\n",
       "      <td>...</td>\n",
       "      <td>0</td>\n",
       "      <td>0</td>\n",
       "      <td>0</td>\n",
       "      <td>0</td>\n",
       "      <td>0</td>\n",
       "      <td>0</td>\n",
       "      <td>0</td>\n",
       "      <td>0</td>\n",
       "      <td>0</td>\n",
       "      <td>0</td>\n",
       "    </tr>\n",
       "    <tr>\n",
       "      <th>4</th>\n",
       "      <td>7.0</td>\n",
       "      <td>37.2646</td>\n",
       "      <td>-93.3007</td>\n",
       "      <td>131.0</td>\n",
       "      <td>30.0</td>\n",
       "      <td>1</td>\n",
       "      <td>1</td>\n",
       "      <td>1</td>\n",
       "      <td>0</td>\n",
       "      <td>0</td>\n",
       "      <td>...</td>\n",
       "      <td>0</td>\n",
       "      <td>0</td>\n",
       "      <td>0</td>\n",
       "      <td>0</td>\n",
       "      <td>0</td>\n",
       "      <td>0</td>\n",
       "      <td>0</td>\n",
       "      <td>0</td>\n",
       "      <td>0</td>\n",
       "      <td>0</td>\n",
       "    </tr>\n",
       "  </tbody>\n",
       "</table>\n",
       "<p>5 rows × 83 columns</p>\n",
       "</div>"
      ],
      "text/plain": [
       "   congressional_district  latitude  longitude  state_house_district  \\\n",
       "0                     2.0   43.2301   -86.2514                  92.0   \n",
       "1                    10.0   40.7417   -74.1695                  29.0   \n",
       "2                     5.0   40.7034   -73.7474                  33.0   \n",
       "3                     9.0   40.6715   -73.9476                  43.0   \n",
       "4                     7.0   37.2646   -93.3007                 131.0   \n",
       "\n",
       "   state_senate_district  day  agegroup_child  agegroup_teen  agegroup_adult  \\\n",
       "0                   34.0    1               0              0               1   \n",
       "1                   29.0    1               0              0               0   \n",
       "2                   14.0    1               0              0               2   \n",
       "3                   20.0    1               0              0               2   \n",
       "4                   30.0    1               1              1               0   \n",
       "\n",
       "   agegroup_unknown  ...  state_South Dakota  state_Tennessee  state_Texas  \\\n",
       "0                 0  ...                   0                0            0   \n",
       "1                 1  ...                   0                0            0   \n",
       "2                 0  ...                   0                0            0   \n",
       "3                 0  ...                   0                0            0   \n",
       "4                 0  ...                   0                0            0   \n",
       "\n",
       "   state_Utah  state_Vermont  state_Virginia  state_Washington  \\\n",
       "0           0              0               0                 0   \n",
       "1           0              0               0                 0   \n",
       "2           0              0               0                 0   \n",
       "3           0              0               0                 0   \n",
       "4           0              0               0                 0   \n",
       "\n",
       "   state_West Virginia  state_Wisconsin  state_Wyoming  \n",
       "0                    0                0              0  \n",
       "1                    0                0              0  \n",
       "2                    0                0              0  \n",
       "3                    0                0              0  \n",
       "4                    0                0              0  \n",
       "\n",
       "[5 rows x 83 columns]"
      ]
     },
     "execution_count": 23,
     "metadata": {},
     "output_type": "execute_result"
    }
   ],
   "source": [
    "gun_df = pd.concat([gun_df,pd.get_dummies(gun_df[['month','year','day_of_week','state']], drop_first = False)], axis = 1)\n",
    "gun_df.drop(['month','year','day_of_week','state'], axis=1, inplace=True)\n",
    "gun_df.head()"
   ]
  },
  {
   "cell_type": "code",
   "execution_count": 24,
   "metadata": {},
   "outputs": [],
   "source": [
    "gun_df.dropna(inplace=True)"
   ]
  },
  {
   "cell_type": "code",
   "execution_count": 25,
   "metadata": {},
   "outputs": [
    {
     "data": {
      "text/plain": [
       "(199600, 83)"
      ]
     },
     "execution_count": 25,
     "metadata": {},
     "output_type": "execute_result"
    }
   ],
   "source": [
    "gun_df.shape"
   ]
  },
  {
   "cell_type": "markdown",
   "metadata": {},
   "source": [
    "### Calculating the Baseline"
   ]
  },
  {
   "cell_type": "code",
   "execution_count": 26,
   "metadata": {},
   "outputs": [
    {
     "data": {
      "text/plain": [
       "1    0.601924\n",
       "0    0.398076\n",
       "Name: casualties, dtype: float64"
      ]
     },
     "execution_count": 26,
     "metadata": {},
     "output_type": "execute_result"
    }
   ],
   "source": [
    "gun_df['casualties'].value_counts(normalize=True)"
   ]
  },
  {
   "cell_type": "code",
   "execution_count": 85,
   "metadata": {},
   "outputs": [
    {
     "data": {
      "text/plain": [
       "0.6019238476953908"
      ]
     },
     "execution_count": 85,
     "metadata": {},
     "output_type": "execute_result"
    }
   ],
   "source": [
    "baseline_accuracy = len(gun_df[gun_df['casualties']==1])/len(gun_df['casualties'])\n",
    "baseline_accuracy"
   ]
  },
  {
   "cell_type": "markdown",
   "metadata": {},
   "source": [
    "### Train Test Split"
   ]
  },
  {
   "cell_type": "code",
   "execution_count": 27,
   "metadata": {},
   "outputs": [],
   "source": [
    "X = gun_df.drop(['casualties'], axis=1)\n",
    "y = gun_df['casualties']\n",
    "\n",
    "\n",
    "X_train, X_test, y_train, y_test = train_test_split(X, y,\n",
    "                                                    test_size=0.2,\n",
    "                                                    random_state=42,\n",
    "                                                    stratify=y)"
   ]
  },
  {
   "cell_type": "markdown",
   "metadata": {},
   "source": [
    "For the purposes of this project, I'll be exploring 3 classification methods to derive the best model:\n",
    "\n",
    "- Logistic Regression Classifer\n",
    "- K Nearest Neighbours Classifier\n",
    "- Random Forest Classifier\n",
    "- XGBoost Classifier\n",
    "\n",
    "**GridSearchCV** will be used to perform hyperparameter tuning in order to determine the optimal values for a given model."
   ]
  },
  {
   "cell_type": "markdown",
   "metadata": {},
   "source": [
    "### Logistic Regression (without GridSearch)"
   ]
  },
  {
   "cell_type": "code",
   "execution_count": 65,
   "metadata": {},
   "outputs": [],
   "source": [
    "lr = LogisticRegression()"
   ]
  },
  {
   "cell_type": "code",
   "execution_count": 66,
   "metadata": {},
   "outputs": [],
   "source": [
    "pipe_lr  = Pipeline([('std', StandardScaler()),\n",
    "                     ('lr', lr)])"
   ]
  },
  {
   "cell_type": "code",
   "execution_count": 67,
   "metadata": {},
   "outputs": [
    {
     "data": {
      "text/plain": [
       "Pipeline(memory=None,\n",
       "         steps=[('std',\n",
       "                 StandardScaler(copy=True, with_mean=True, with_std=True)),\n",
       "                ('lr',\n",
       "                 LogisticRegression(C=1.0, class_weight=None, dual=False,\n",
       "                                    fit_intercept=True, intercept_scaling=1,\n",
       "                                    l1_ratio=None, max_iter=100,\n",
       "                                    multi_class='auto', n_jobs=None,\n",
       "                                    penalty='l2', random_state=None,\n",
       "                                    solver='lbfgs', tol=0.0001, verbose=0,\n",
       "                                    warm_start=False))],\n",
       "         verbose=False)"
      ]
     },
     "execution_count": 67,
     "metadata": {},
     "output_type": "execute_result"
    }
   ],
   "source": [
    "pipe_lr.fit(X_train, y_train)"
   ]
  },
  {
   "cell_type": "code",
   "execution_count": 68,
   "metadata": {},
   "outputs": [
    {
     "name": "stdout",
     "output_type": "stream",
     "text": [
      "0.7020541082164329\n",
      "0.7005761523046092\n"
     ]
    }
   ],
   "source": [
    "print(pipe_lr.score(X_train,y_train))\n",
    "print(pipe_lr.score(X_test,y_test))"
   ]
  },
  {
   "cell_type": "code",
   "execution_count": 69,
   "metadata": {},
   "outputs": [
    {
     "name": "stdout",
     "output_type": "stream",
     "text": [
      "              precision    recall  f1-score   support\n",
      "\n",
      "           0       0.72      0.41      0.52     15891\n",
      "           1       0.70      0.89      0.78     24029\n",
      "\n",
      "    accuracy                           0.70     39920\n",
      "   macro avg       0.71      0.65      0.65     39920\n",
      "weighted avg       0.70      0.70      0.68     39920\n",
      "\n"
     ]
    }
   ],
   "source": [
    "y_pred_lr = pipe_lr.predict(X_test)\n",
    "print(classification_report(y_test, y_pred_lr))"
   ]
  },
  {
   "cell_type": "code",
   "execution_count": 70,
   "metadata": {},
   "outputs": [
    {
     "data": {
      "text/html": [
       "<div>\n",
       "<style scoped>\n",
       "    .dataframe tbody tr th:only-of-type {\n",
       "        vertical-align: middle;\n",
       "    }\n",
       "\n",
       "    .dataframe tbody tr th {\n",
       "        vertical-align: top;\n",
       "    }\n",
       "\n",
       "    .dataframe thead th {\n",
       "        text-align: right;\n",
       "    }\n",
       "</style>\n",
       "<table border=\"1\" class=\"dataframe\">\n",
       "  <thead>\n",
       "    <tr style=\"text-align: right;\">\n",
       "      <th></th>\n",
       "      <th>Predict: No</th>\n",
       "      <th>Predict: Yes</th>\n",
       "    </tr>\n",
       "  </thead>\n",
       "  <tbody>\n",
       "    <tr>\n",
       "      <th>Actual: No</th>\n",
       "      <td>6505</td>\n",
       "      <td>9386</td>\n",
       "    </tr>\n",
       "    <tr>\n",
       "      <th>Actual: Yes</th>\n",
       "      <td>2567</td>\n",
       "      <td>21462</td>\n",
       "    </tr>\n",
       "  </tbody>\n",
       "</table>\n",
       "</div>"
      ],
      "text/plain": [
       "             Predict: No  Predict: Yes\n",
       "Actual: No          6505          9386\n",
       "Actual: Yes         2567         21462"
      ]
     },
     "execution_count": 70,
     "metadata": {},
     "output_type": "execute_result"
    }
   ],
   "source": [
    "pd.DataFrame(confusion_matrix(y_test, y_pred_lr),\n",
    "             columns=['Predict: No', 'Predict: Yes'],\n",
    "             index=['Actual: No', 'Actual: Yes'])"
   ]
  },
  {
   "cell_type": "code",
   "execution_count": 71,
   "metadata": {},
   "outputs": [
    {
     "data": {
      "text/plain": [
       "0.7265229437865992"
      ]
     },
     "execution_count": 71,
     "metadata": {},
     "output_type": "execute_result"
    }
   ],
   "source": [
    "lr_proba = pipe_lr.predict_proba(X_test)\n",
    "lr_probability = [i[1] for i in lr_proba]\n",
    "roc_auc_score(y_test, lr_probability)"
   ]
  },
  {
   "cell_type": "markdown",
   "metadata": {},
   "source": [
    "### Logistic Regression (with GridSearch)"
   ]
  },
  {
   "cell_type": "code",
   "execution_count": 72,
   "metadata": {},
   "outputs": [
    {
     "name": "stdout",
     "output_type": "stream",
     "text": [
      "Fitting 5 folds for each of 200 candidates, totalling 1000 fits\n"
     ]
    },
    {
     "name": "stderr",
     "output_type": "stream",
     "text": [
      "[Parallel(n_jobs=-1)]: Using backend LokyBackend with 8 concurrent workers.\n",
      "[Parallel(n_jobs=-1)]: Done  34 tasks      | elapsed:   12.5s\n",
      "[Parallel(n_jobs=-1)]: Done 184 tasks      | elapsed:  1.2min\n",
      "[Parallel(n_jobs=-1)]: Done 434 tasks      | elapsed:  3.5min\n",
      "[Parallel(n_jobs=-1)]: Done 784 tasks      | elapsed: 12.9min\n",
      "[Parallel(n_jobs=-1)]: Done 1000 out of 1000 | elapsed: 28.9min finished\n"
     ]
    },
    {
     "data": {
      "text/plain": [
       "GridSearchCV(cv=5, error_score=nan,\n",
       "             estimator=Pipeline(memory=None,\n",
       "                                steps=[('std',\n",
       "                                        StandardScaler(copy=True,\n",
       "                                                       with_mean=True,\n",
       "                                                       with_std=True)),\n",
       "                                       ('lr',\n",
       "                                        LogisticRegression(C=1.0,\n",
       "                                                           class_weight=None,\n",
       "                                                           dual=False,\n",
       "                                                           fit_intercept=True,\n",
       "                                                           intercept_scaling=1,\n",
       "                                                           l1_ratio=None,\n",
       "                                                           max_iter=100,\n",
       "                                                           multi_class='auto',\n",
       "                                                           n_jobs=None,\n",
       "                                                           penalty='l2',\n",
       "                                                           random_state=None,\n",
       "                                                           solver='lbfgs',\n",
       "                                                           tol=0.0001,\n",
       "                                                           v...\n",
       "       1.74752840e-01, 1.96304065e-01, 2.20513074e-01, 2.47707636e-01,\n",
       "       2.78255940e-01, 3.12571585e-01, 3.51119173e-01, 3.94420606e-01,\n",
       "       4.43062146e-01, 4.97702356e-01, 5.59081018e-01, 6.28029144e-01,\n",
       "       7.05480231e-01, 7.92482898e-01, 8.90215085e-01, 1.00000000e+00]),\n",
       "                          'lr__penalty': ['l1', 'l2'],\n",
       "                          'lr__solver': ['liblinear']}],\n",
       "             pre_dispatch='2*n_jobs', refit=True, return_train_score=False,\n",
       "             scoring='roc_auc', verbose=1)"
      ]
     },
     "execution_count": 72,
     "metadata": {},
     "output_type": "execute_result"
    }
   ],
   "source": [
    "param_grid_lr  = [{'lr__penalty': ['l1','l2'],\n",
    "                   'lr__solver':['liblinear'],\n",
    "                   'lr__C': np.logspace(-5,0,100)}]\n",
    "\n",
    "grid_lr = GridSearchCV(pipe_lr,\n",
    "                       param_grid=param_grid_lr,\n",
    "                       scoring='roc_auc',\n",
    "                       cv=5, \n",
    "                       verbose=1,\n",
    "                       n_jobs=-1)\n",
    "grid_lr.fit(X_train, y_train)"
   ]
  },
  {
   "cell_type": "code",
   "execution_count": 73,
   "metadata": {},
   "outputs": [
    {
     "data": {
      "text/plain": [
       "0.7283461256898877"
      ]
     },
     "execution_count": 73,
     "metadata": {},
     "output_type": "execute_result"
    }
   ],
   "source": [
    "# Training data without cross-validation\n",
    "grid_lr.score(X_train, y_train)"
   ]
  },
  {
   "cell_type": "code",
   "execution_count": 74,
   "metadata": {},
   "outputs": [
    {
     "data": {
      "text/plain": [
       "0.7266811729776974"
      ]
     },
     "execution_count": 74,
     "metadata": {},
     "output_type": "execute_result"
    }
   ],
   "source": [
    "# Score it on the testing data\n",
    "grid_lr.score(X_test, y_test)"
   ]
  },
  {
   "cell_type": "code",
   "execution_count": 75,
   "metadata": {},
   "outputs": [
    {
     "data": {
      "text/plain": [
       "0.7274581214142536"
      ]
     },
     "execution_count": 75,
     "metadata": {},
     "output_type": "execute_result"
    }
   ],
   "source": [
    "# Best score on the training data which has undergone cross-validation\n",
    "grid_lr.best_score_"
   ]
  },
  {
   "cell_type": "code",
   "execution_count": 76,
   "metadata": {},
   "outputs": [
    {
     "data": {
      "text/plain": [
       "{'lr__C': 0.0006579332246575682,\n",
       " 'lr__penalty': 'l2',\n",
       " 'lr__solver': 'liblinear'}"
      ]
     },
     "execution_count": 76,
     "metadata": {},
     "output_type": "execute_result"
    }
   ],
   "source": [
    "# Best parameters on the training data\n",
    "grid_lr.best_params_"
   ]
  },
  {
   "cell_type": "code",
   "execution_count": 77,
   "metadata": {},
   "outputs": [
    {
     "data": {
      "text/plain": [
       "Pipeline(memory=None,\n",
       "         steps=[('std',\n",
       "                 StandardScaler(copy=True, with_mean=True, with_std=True)),\n",
       "                ('lr',\n",
       "                 LogisticRegression(C=0.0006579332246575682, class_weight=None,\n",
       "                                    dual=False, fit_intercept=True,\n",
       "                                    intercept_scaling=1, l1_ratio=None,\n",
       "                                    max_iter=100, multi_class='auto',\n",
       "                                    n_jobs=None, penalty='l2',\n",
       "                                    random_state=None, solver='liblinear',\n",
       "                                    tol=0.0001, verbose=0, warm_start=False))],\n",
       "         verbose=False)"
      ]
     },
     "execution_count": 77,
     "metadata": {},
     "output_type": "execute_result"
    }
   ],
   "source": [
    "# Retrieve the best hyperparameters values and retrain the model\n",
    "best_lr = grid_lr.best_estimator_\n",
    "best_lr.fit(X_train, y_train)"
   ]
  },
  {
   "cell_type": "code",
   "execution_count": 78,
   "metadata": {},
   "outputs": [
    {
     "name": "stdout",
     "output_type": "stream",
     "text": [
      "              precision    recall  f1-score   support\n",
      "\n",
      "           0       0.72      0.41      0.52     15891\n",
      "           1       0.70      0.90      0.78     24029\n",
      "\n",
      "    accuracy                           0.70     39920\n",
      "   macro avg       0.71      0.65      0.65     39920\n",
      "weighted avg       0.71      0.70      0.68     39920\n",
      "\n"
     ]
    }
   ],
   "source": [
    "# Perform prediction on the validation model\n",
    "lr_y_pred = best_lr.predict(X_test)\n",
    "print(classification_report(y_test, lr_y_pred))"
   ]
  },
  {
   "cell_type": "code",
   "execution_count": 79,
   "metadata": {},
   "outputs": [
    {
     "data": {
      "text/html": [
       "<div>\n",
       "<style scoped>\n",
       "    .dataframe tbody tr th:only-of-type {\n",
       "        vertical-align: middle;\n",
       "    }\n",
       "\n",
       "    .dataframe tbody tr th {\n",
       "        vertical-align: top;\n",
       "    }\n",
       "\n",
       "    .dataframe thead th {\n",
       "        text-align: right;\n",
       "    }\n",
       "</style>\n",
       "<table border=\"1\" class=\"dataframe\">\n",
       "  <thead>\n",
       "    <tr style=\"text-align: right;\">\n",
       "      <th></th>\n",
       "      <th>Predict: No</th>\n",
       "      <th>Predict: Yes</th>\n",
       "    </tr>\n",
       "  </thead>\n",
       "  <tbody>\n",
       "    <tr>\n",
       "      <th>Actual: No</th>\n",
       "      <td>6492</td>\n",
       "      <td>9399</td>\n",
       "    </tr>\n",
       "    <tr>\n",
       "      <th>Actual: Yes</th>\n",
       "      <td>2498</td>\n",
       "      <td>21531</td>\n",
       "    </tr>\n",
       "  </tbody>\n",
       "</table>\n",
       "</div>"
      ],
      "text/plain": [
       "             Predict: No  Predict: Yes\n",
       "Actual: No          6492          9399\n",
       "Actual: Yes         2498         21531"
      ]
     },
     "execution_count": 79,
     "metadata": {},
     "output_type": "execute_result"
    }
   ],
   "source": [
    "pd.DataFrame(confusion_matrix(y_test, lr_y_pred),\n",
    "             columns=['Predict: No', 'Predict: Yes'],\n",
    "             index=['Actual: No', 'Actual: Yes'])"
   ]
  },
  {
   "cell_type": "code",
   "execution_count": 80,
   "metadata": {},
   "outputs": [
    {
     "name": "stdout",
     "output_type": "stream",
     "text": [
      "True Negatives: 6492\n",
      "False Positives: 9399\n",
      "False Negatives: 2498\n",
      "True Positives: 21531\n"
     ]
    }
   ],
   "source": [
    "tn, fp, fn, tp = confusion_matrix(y_test, lr_y_pred).ravel()\n",
    "print(\"True Negatives: %s\" % tn)\n",
    "print(\"False Positives: %s\" % fp)\n",
    "print(\"False Negatives: %s\" % fn)\n",
    "print(\"True Positives: %s\" % tp)"
   ]
  },
  {
   "cell_type": "code",
   "execution_count": 81,
   "metadata": {},
   "outputs": [
    {
     "data": {
      "text/plain": [
       "0.7266811729776974"
      ]
     },
     "execution_count": 81,
     "metadata": {},
     "output_type": "execute_result"
    }
   ],
   "source": [
    "# Generate the new roc_auc score for logistic regression based on the optimized parameters\n",
    "lr_proba_gs = best_lr.predict_proba(X_test)\n",
    "lr_probability_gs = [i[1] for i in lr_proba_gs]\n",
    "roc_auc_score(y_test, lr_probability_gs)"
   ]
  },
  {
   "cell_type": "code",
   "execution_count": 82,
   "metadata": {},
   "outputs": [
    {
     "data": {
      "image/png": "[encoded data removed]",
      "text/plain": [
       "<Figure size 1080x576 with 1 Axes>"
      ]
     },
     "metadata": {
      "image/png": {
       "height": 504,
       "width": 1002
      },
      "needs_background": "light"
     },
     "output_type": "display_data"
    }
   ],
   "source": [
    "# Calculate the fpr and tpr for all thresholds of the classification\n",
    "fpr, tpr, threshold = metrics.roc_curve(y_test,lr_probability_gs)\n",
    "roc_auc = metrics.auc(fpr, tpr)\n",
    "\n",
    "plt.figure(figsize=(15,8))\n",
    "plt.title('Logistic Regression ROC Curve', fontsize=20)\n",
    "plt.plot(fpr, tpr, 'b', label = 'AUC = %0.2f' % roc_auc)\n",
    "plt.legend(loc = 'lower right', fontsize=15)\n",
    "plt.plot([0, 1], [0, 1],'r--')\n",
    "plt.xlim([0, 1])\n",
    "plt.ylim([0, 1])\n",
    "plt.ylabel('True Positive Rate', fontsize=18)\n",
    "plt.xlabel('False Positive Rate', fontsize=18)\n",
    "plt.show();"
   ]
  },
  {
   "cell_type": "markdown",
   "metadata": {},
   "source": [
    "### K-Nearest Neighbours (using GridSearch)"
   ]
  },
  {
   "cell_type": "code",
   "execution_count": 116,
   "metadata": {},
   "outputs": [],
   "source": [
    "knn = KNeighborsClassifier()"
   ]
  },
  {
   "cell_type": "code",
   "execution_count": 117,
   "metadata": {},
   "outputs": [],
   "source": [
    "pipe_knn = Pipeline([('std', StandardScaler()),\n",
    "                     ('knn', knn)])"
   ]
  },
  {
   "cell_type": "code",
   "execution_count": 119,
   "metadata": {},
   "outputs": [
    {
     "name": "stdout",
     "output_type": "stream",
     "text": [
      "Fitting 5 folds for each of 10 candidates, totalling 50 fits\n"
     ]
    },
    {
     "name": "stderr",
     "output_type": "stream",
     "text": [
      "[Parallel(n_jobs=-1)]: Using backend LokyBackend with 8 concurrent workers.\n",
      "[Parallel(n_jobs=-1)]: Done  34 tasks      | elapsed: 94.9min\n",
      "[Parallel(n_jobs=-1)]: Done  50 out of  50 | elapsed: 122.5min finished\n"
     ]
    },
    {
     "data": {
      "text/plain": [
       "RandomizedSearchCV(cv=5, error_score=nan,\n",
       "                   estimator=Pipeline(memory=None,\n",
       "                                      steps=[('std',\n",
       "                                              StandardScaler(copy=True,\n",
       "                                                             with_mean=True,\n",
       "                                                             with_std=True)),\n",
       "                                             ('knn',\n",
       "                                              KNeighborsClassifier(algorithm='auto',\n",
       "                                                                   leaf_size=30,\n",
       "                                                                   metric='minkowski',\n",
       "                                                                   metric_params=None,\n",
       "                                                                   n_jobs=None,\n",
       "                                                                   n_neighbors=5,\n",
       "                                                                   p=2,\n",
       "                                                                   weights='uniform'))],\n",
       "                                      verbose=False),\n",
       "                   iid='deprecated', n_iter=10, n_jobs=-1,\n",
       "                   param_distributions=[{'knn__leaf_size': array([10, 20, 30, 40, 50]),\n",
       "                                         'knn__n_neighbors': [1, 2, 3, 4, 5, 6,\n",
       "                                                              7, 8, 9],\n",
       "                                         'knn__p': [1, 2]}],\n",
       "                   pre_dispatch='2*n_jobs', random_state=None, refit=True,\n",
       "                   return_train_score=False, scoring='roc_auc', verbose=1)"
      ]
     },
     "execution_count": 119,
     "metadata": {},
     "output_type": "execute_result"
    }
   ],
   "source": [
    "# Using RandomizedSearchCV as GridSearchCV is taking too long\n",
    "\n",
    "param_grid_knn = [{'knn__n_neighbors': list(range(1,10)),\n",
    "                   'knn__p': [1, 2],\n",
    "                   'knn__leaf_size': np.arange(10,51,10)}]\n",
    "\n",
    "grid_knn = RandomizedSearchCV(pipe_knn,\n",
    "                            param_distributions=param_grid_knn,\n",
    "                            scoring='roc_auc',\n",
    "                            cv=5, \n",
    "                            verbose=1,\n",
    "                            n_jobs=-1)\n",
    "\n",
    "grid_knn.fit(X_train, y_train)"
   ]
  },
  {
   "cell_type": "code",
   "execution_count": 120,
   "metadata": {},
   "outputs": [
    {
     "data": {
      "text/plain": [
       "0.715542261132931"
      ]
     },
     "execution_count": 120,
     "metadata": {},
     "output_type": "execute_result"
    }
   ],
   "source": [
    "grid_knn.score(X_test, y_test)"
   ]
  },
  {
   "cell_type": "code",
   "execution_count": 121,
   "metadata": {},
   "outputs": [
    {
     "data": {
      "text/plain": [
       "0.7104991525992059"
      ]
     },
     "execution_count": 121,
     "metadata": {},
     "output_type": "execute_result"
    }
   ],
   "source": [
    "# Best score on the training data which has undergone cross-validation\n",
    "grid_knn.best_score_"
   ]
  },
  {
   "cell_type": "code",
   "execution_count": 122,
   "metadata": {},
   "outputs": [
    {
     "data": {
      "text/plain": [
       "{'knn__p': 1, 'knn__n_neighbors': 8, 'knn__leaf_size': 10}"
      ]
     },
     "execution_count": 122,
     "metadata": {},
     "output_type": "execute_result"
    }
   ],
   "source": [
    "grid_knn.best_params_"
   ]
  },
  {
   "cell_type": "code",
   "execution_count": 123,
   "metadata": {},
   "outputs": [
    {
     "data": {
      "text/plain": [
       "Pipeline(memory=None,\n",
       "         steps=[('std',\n",
       "                 StandardScaler(copy=True, with_mean=True, with_std=True)),\n",
       "                ('knn',\n",
       "                 KNeighborsClassifier(algorithm='auto', leaf_size=10,\n",
       "                                      metric='minkowski', metric_params=None,\n",
       "                                      n_jobs=None, n_neighbors=8, p=1,\n",
       "                                      weights='uniform'))],\n",
       "         verbose=False)"
      ]
     },
     "execution_count": 123,
     "metadata": {},
     "output_type": "execute_result"
    }
   ],
   "source": [
    "best_knn = grid_knn.best_estimator_\n",
    "best_knn.fit(X_train, y_train)"
   ]
  },
  {
   "cell_type": "code",
   "execution_count": 124,
   "metadata": {},
   "outputs": [
    {
     "name": "stdout",
     "output_type": "stream",
     "text": [
      "              precision    recall  f1-score   support\n",
      "\n",
      "           0       0.58      0.58      0.58     15891\n",
      "           1       0.72      0.73      0.72     24029\n",
      "\n",
      "    accuracy                           0.67     39920\n",
      "   macro avg       0.65      0.65      0.65     39920\n",
      "weighted avg       0.67      0.67      0.67     39920\n",
      "\n"
     ]
    }
   ],
   "source": [
    "knn_y_pred = best_knn.predict(X_test)\n",
    "print(classification_report(y_test, knn_y_pred))"
   ]
  },
  {
   "cell_type": "code",
   "execution_count": 125,
   "metadata": {},
   "outputs": [
    {
     "name": "stdout",
     "output_type": "stream",
     "text": [
      "True Negatives: 9271\n",
      "False Positives: 6620\n",
      "False Negatives: 6602\n",
      "True Positives: 17427\n"
     ]
    }
   ],
   "source": [
    "tn2, fp2, fn2, tp2 = confusion_matrix(y_test, knn_y_pred).ravel()\n",
    "\n",
    "print(\"True Negatives: %s\" % tn2)\n",
    "print(\"False Positives: %s\" % fp2)\n",
    "print(\"False Negatives: %s\" % fn2)\n",
    "print(\"True Positives: %s\" % tp2)"
   ]
  },
  {
   "cell_type": "code",
   "execution_count": 126,
   "metadata": {},
   "outputs": [
    {
     "data": {
      "text/html": [
       "<div>\n",
       "<style scoped>\n",
       "    .dataframe tbody tr th:only-of-type {\n",
       "        vertical-align: middle;\n",
       "    }\n",
       "\n",
       "    .dataframe tbody tr th {\n",
       "        vertical-align: top;\n",
       "    }\n",
       "\n",
       "    .dataframe thead th {\n",
       "        text-align: right;\n",
       "    }\n",
       "</style>\n",
       "<table border=\"1\" class=\"dataframe\">\n",
       "  <thead>\n",
       "    <tr style=\"text-align: right;\">\n",
       "      <th></th>\n",
       "      <th>Predict: No</th>\n",
       "      <th>Predict: Yes</th>\n",
       "    </tr>\n",
       "  </thead>\n",
       "  <tbody>\n",
       "    <tr>\n",
       "      <th>Actual: No</th>\n",
       "      <td>9271</td>\n",
       "      <td>6620</td>\n",
       "    </tr>\n",
       "    <tr>\n",
       "      <th>Actual: Yes</th>\n",
       "      <td>6602</td>\n",
       "      <td>17427</td>\n",
       "    </tr>\n",
       "  </tbody>\n",
       "</table>\n",
       "</div>"
      ],
      "text/plain": [
       "             Predict: No  Predict: Yes\n",
       "Actual: No          9271          6620\n",
       "Actual: Yes         6602         17427"
      ]
     },
     "execution_count": 126,
     "metadata": {},
     "output_type": "execute_result"
    }
   ],
   "source": [
    "# Confusion Matrix Table\n",
    "pd.DataFrame(confusion_matrix(y_test, knn_y_pred),\n",
    "             columns=['Predict: No', 'Predict: Yes'], \n",
    "             index=['Actual: No', 'Actual: Yes'])"
   ]
  },
  {
   "cell_type": "code",
   "execution_count": 127,
   "metadata": {},
   "outputs": [
    {
     "data": {
      "text/plain": [
       "0.715542261132931"
      ]
     },
     "execution_count": 127,
     "metadata": {},
     "output_type": "execute_result"
    }
   ],
   "source": [
    "# Generate the new roc_auc score for knn based on the optimized parameters\n",
    "knn_proba_gs = best_knn.predict_proba(X_test)\n",
    "knn_probability_gs = [i[1] for i in knn_proba_gs]\n",
    "roc_auc_score(y_test, knn_probability_gs)"
   ]
  },
  {
   "cell_type": "markdown",
   "metadata": {},
   "source": [
    "### Random Forest (without GridSearch)"
   ]
  },
  {
   "cell_type": "code",
   "execution_count": 47,
   "metadata": {},
   "outputs": [
    {
     "data": {
      "text/plain": [
       "RandomForestClassifier(bootstrap=True, ccp_alpha=0.0, class_weight=None,\n",
       "                       criterion='gini', max_depth=None, max_features='auto',\n",
       "                       max_leaf_nodes=None, max_samples=None,\n",
       "                       min_impurity_decrease=0.0, min_impurity_split=None,\n",
       "                       min_samples_leaf=1, min_samples_split=2,\n",
       "                       min_weight_fraction_leaf=0.0, n_estimators=100,\n",
       "                       n_jobs=None, oob_score=False, random_state=None,\n",
       "                       verbose=0, warm_start=False)"
      ]
     },
     "execution_count": 47,
     "metadata": {},
     "output_type": "execute_result"
    }
   ],
   "source": [
    "rf = RandomForestClassifier()\n",
    "rf.fit(X_train, y_train)"
   ]
  },
  {
   "cell_type": "code",
   "execution_count": 48,
   "metadata": {},
   "outputs": [
    {
     "name": "stdout",
     "output_type": "stream",
     "text": [
      "              precision    recall  f1-score   support\n",
      "\n",
      "           0       0.72      0.57      0.63     15891\n",
      "           1       0.75      0.85      0.80     24029\n",
      "\n",
      "    accuracy                           0.74     39920\n",
      "   macro avg       0.73      0.71      0.72     39920\n",
      "weighted avg       0.74      0.74      0.73     39920\n",
      "\n"
     ]
    }
   ],
   "source": [
    "y_pred_rf = rf.predict(X_test)\n",
    "print(classification_report(y_test, y_pred_rf))"
   ]
  },
  {
   "cell_type": "code",
   "execution_count": 49,
   "metadata": {},
   "outputs": [
    {
     "data": {
      "text/html": [
       "<div>\n",
       "<style scoped>\n",
       "    .dataframe tbody tr th:only-of-type {\n",
       "        vertical-align: middle;\n",
       "    }\n",
       "\n",
       "    .dataframe tbody tr th {\n",
       "        vertical-align: top;\n",
       "    }\n",
       "\n",
       "    .dataframe thead th {\n",
       "        text-align: right;\n",
       "    }\n",
       "</style>\n",
       "<table border=\"1\" class=\"dataframe\">\n",
       "  <thead>\n",
       "    <tr style=\"text-align: right;\">\n",
       "      <th></th>\n",
       "      <th>Predict: No</th>\n",
       "      <th>Predict: Yes</th>\n",
       "    </tr>\n",
       "  </thead>\n",
       "  <tbody>\n",
       "    <tr>\n",
       "      <th>Actual: No</th>\n",
       "      <td>8991</td>\n",
       "      <td>6900</td>\n",
       "    </tr>\n",
       "    <tr>\n",
       "      <th>Actual: Yes</th>\n",
       "      <td>3514</td>\n",
       "      <td>20515</td>\n",
       "    </tr>\n",
       "  </tbody>\n",
       "</table>\n",
       "</div>"
      ],
      "text/plain": [
       "             Predict: No  Predict: Yes\n",
       "Actual: No          8991          6900\n",
       "Actual: Yes         3514         20515"
      ]
     },
     "execution_count": 49,
     "metadata": {},
     "output_type": "execute_result"
    }
   ],
   "source": [
    "pd.DataFrame(confusion_matrix(y_test, y_pred_rf),\n",
    "             columns=['Predict: No', 'Predict: Yes'], \n",
    "             index=['Actual: No', 'Actual: Yes'])"
   ]
  },
  {
   "cell_type": "code",
   "execution_count": 50,
   "metadata": {},
   "outputs": [
    {
     "data": {
      "text/plain": [
       "0.7994833040024405"
      ]
     },
     "execution_count": 50,
     "metadata": {},
     "output_type": "execute_result"
    }
   ],
   "source": [
    "rf_proba = rf.predict_proba(X_test)\n",
    "rf_probability = [i[1] for i in rf_proba]\n",
    "roc_auc_score(y_test, rf_probability)"
   ]
  },
  {
   "cell_type": "markdown",
   "metadata": {},
   "source": [
    "### Random Forest (with GridSearch)"
   ]
  },
  {
   "cell_type": "code",
   "execution_count": 51,
   "metadata": {},
   "outputs": [
    {
     "name": "stdout",
     "output_type": "stream",
     "text": [
      "Fitting 5 folds for each of 48 candidates, totalling 240 fits\n"
     ]
    },
    {
     "name": "stderr",
     "output_type": "stream",
     "text": [
      "[Parallel(n_jobs=-1)]: Using backend LokyBackend with 8 concurrent workers.\n",
      "[Parallel(n_jobs=-1)]: Done  34 tasks      | elapsed: 22.4min\n",
      "[Parallel(n_jobs=-1)]: Done 184 tasks      | elapsed: 49.1min\n",
      "[Parallel(n_jobs=-1)]: Done 240 out of 240 | elapsed: 63.1min finished\n"
     ]
    },
    {
     "data": {
      "text/plain": [
       "GridSearchCV(cv=5, error_score=nan,\n",
       "             estimator=RandomForestClassifier(bootstrap=True, ccp_alpha=0.0,\n",
       "                                              class_weight=None,\n",
       "                                              criterion='gini', max_depth=None,\n",
       "                                              max_features='auto',\n",
       "                                              max_leaf_nodes=None,\n",
       "                                              max_samples=None,\n",
       "                                              min_impurity_decrease=0.0,\n",
       "                                              min_impurity_split=None,\n",
       "                                              min_samples_leaf=1,\n",
       "                                              min_samples_split=2,\n",
       "                                              min_weight_fraction_leaf=0.0,\n",
       "                                              n_estimators=100, n_jobs=None,\n",
       "                                              oob_score=False,\n",
       "                                              random_state=None, verbose=0,\n",
       "                                              warm_start=False),\n",
       "             iid='deprecated', n_jobs=-1,\n",
       "             param_grid=[{'bootstrap': [True], 'max_depth': [None, 1, 5, 10],\n",
       "                          'max_features': ['auto'], 'min_samples_leaf': [1],\n",
       "                          'min_samples_split': [5, 10, 20, 30],\n",
       "                          'n_estimators': [100, 500, 1000]}],\n",
       "             pre_dispatch='2*n_jobs', refit=True, return_train_score=False,\n",
       "             scoring='roc_auc', verbose=1)"
      ]
     },
     "execution_count": 51,
     "metadata": {},
     "output_type": "execute_result"
    }
   ],
   "source": [
    "param_grid_rf = [{'n_estimators': [100,500,1000],\n",
    "                   'min_samples_split': [5,10,20,30], \n",
    "                   'max_features': ['auto'],\n",
    "                   'max_depth':[None,1,5,10],\n",
    "                   'min_samples_leaf': [1],\n",
    "                   'bootstrap':[True]}] \n",
    "\n",
    "grid_rf = GridSearchCV(rf,\n",
    "                       param_grid=param_grid_rf,\n",
    "                       scoring='roc_auc',\n",
    "                       cv=5,\n",
    "                       verbose=1,\n",
    "                       n_jobs=-1)\n",
    "\n",
    "grid_rf.fit(X_train, y_train)"
   ]
  },
  {
   "cell_type": "code",
   "execution_count": 52,
   "metadata": {},
   "outputs": [
    {
     "data": {
      "text/plain": [
       "0.9454579007678876"
      ]
     },
     "execution_count": 52,
     "metadata": {},
     "output_type": "execute_result"
    }
   ],
   "source": [
    "# Training data without cross-validation\n",
    "grid_rf.score(X_train, y_train)"
   ]
  },
  {
   "cell_type": "code",
   "execution_count": 53,
   "metadata": {},
   "outputs": [
    {
     "data": {
      "text/plain": [
       "0.8085147917895521"
      ]
     },
     "execution_count": 53,
     "metadata": {},
     "output_type": "execute_result"
    }
   ],
   "source": [
    "# Score it on the testing data\n",
    "grid_rf.score(X_test, y_test)"
   ]
  },
  {
   "cell_type": "code",
   "execution_count": 54,
   "metadata": {},
   "outputs": [
    {
     "data": {
      "text/plain": [
       "0.8049960447373212"
      ]
     },
     "execution_count": 54,
     "metadata": {},
     "output_type": "execute_result"
    }
   ],
   "source": [
    "# Best score on the training data which has undergone cross-validation\n",
    "grid_rf.best_score_"
   ]
  },
  {
   "cell_type": "code",
   "execution_count": 55,
   "metadata": {},
   "outputs": [
    {
     "data": {
      "text/plain": [
       "{'bootstrap': True,\n",
       " 'max_depth': None,\n",
       " 'max_features': 'auto',\n",
       " 'min_samples_leaf': 1,\n",
       " 'min_samples_split': 20,\n",
       " 'n_estimators': 1000}"
      ]
     },
     "execution_count": 55,
     "metadata": {},
     "output_type": "execute_result"
    }
   ],
   "source": [
    "grid_rf.best_params_"
   ]
  },
  {
   "cell_type": "code",
   "execution_count": 56,
   "metadata": {},
   "outputs": [
    {
     "data": {
      "text/plain": [
       "RandomForestClassifier(bootstrap=True, ccp_alpha=0.0, class_weight=None,\n",
       "                       criterion='gini', max_depth=None, max_features='auto',\n",
       "                       max_leaf_nodes=None, max_samples=None,\n",
       "                       min_impurity_decrease=0.0, min_impurity_split=None,\n",
       "                       min_samples_leaf=1, min_samples_split=20,\n",
       "                       min_weight_fraction_leaf=0.0, n_estimators=1000,\n",
       "                       n_jobs=None, oob_score=False, random_state=None,\n",
       "                       verbose=0, warm_start=False)"
      ]
     },
     "execution_count": 56,
     "metadata": {},
     "output_type": "execute_result"
    }
   ],
   "source": [
    "# Retrieve the best hyperparameters values and retrain the model\n",
    "best_rf = grid_rf.best_estimator_\n",
    "best_rf.fit(X_train, y_train)"
   ]
  },
  {
   "cell_type": "code",
   "execution_count": 57,
   "metadata": {},
   "outputs": [
    {
     "name": "stdout",
     "output_type": "stream",
     "text": [
      "              precision    recall  f1-score   support\n",
      "\n",
      "           0       0.75      0.54      0.63     15891\n",
      "           1       0.74      0.88      0.81     24029\n",
      "\n",
      "    accuracy                           0.75     39920\n",
      "   macro avg       0.75      0.71      0.72     39920\n",
      "weighted avg       0.75      0.75      0.74     39920\n",
      "\n"
     ]
    }
   ],
   "source": [
    "gs_y_pred = best_rf.predict(X_test)\n",
    "print(classification_report(y_test, gs_y_pred))"
   ]
  },
  {
   "cell_type": "code",
   "execution_count": 58,
   "metadata": {},
   "outputs": [
    {
     "name": "stdout",
     "output_type": "stream",
     "text": [
      "True Negatives: 8523\n",
      "False Positives: 7368\n",
      "False Negatives: 2770\n",
      "True Positives: 21259\n"
     ]
    }
   ],
   "source": [
    "tn3, fp3, fn3, tp3 = confusion_matrix(y_test, gs_y_pred).ravel()\n",
    "print(\"True Negatives: %s\" % tn3)\n",
    "print(\"False Positives: %s\" % fp3)\n",
    "print(\"False Negatives: %s\" % fn3)\n",
    "print(\"True Positives: %s\" % tp3)"
   ]
  },
  {
   "cell_type": "code",
   "execution_count": 59,
   "metadata": {},
   "outputs": [
    {
     "data": {
      "text/html": [
       "<div>\n",
       "<style scoped>\n",
       "    .dataframe tbody tr th:only-of-type {\n",
       "        vertical-align: middle;\n",
       "    }\n",
       "\n",
       "    .dataframe tbody tr th {\n",
       "        vertical-align: top;\n",
       "    }\n",
       "\n",
       "    .dataframe thead th {\n",
       "        text-align: right;\n",
       "    }\n",
       "</style>\n",
       "<table border=\"1\" class=\"dataframe\">\n",
       "  <thead>\n",
       "    <tr style=\"text-align: right;\">\n",
       "      <th></th>\n",
       "      <th>Predict: No</th>\n",
       "      <th>Predict: Yes</th>\n",
       "    </tr>\n",
       "  </thead>\n",
       "  <tbody>\n",
       "    <tr>\n",
       "      <th>Actual: No</th>\n",
       "      <td>8523</td>\n",
       "      <td>7368</td>\n",
       "    </tr>\n",
       "    <tr>\n",
       "      <th>Actual: Yes</th>\n",
       "      <td>2770</td>\n",
       "      <td>21259</td>\n",
       "    </tr>\n",
       "  </tbody>\n",
       "</table>\n",
       "</div>"
      ],
      "text/plain": [
       "             Predict: No  Predict: Yes\n",
       "Actual: No          8523          7368\n",
       "Actual: Yes         2770         21259"
      ]
     },
     "execution_count": 59,
     "metadata": {},
     "output_type": "execute_result"
    }
   ],
   "source": [
    "# Confusion Matrix Table\n",
    "pd.DataFrame(confusion_matrix(y_test, gs_y_pred),\n",
    "             columns=['Predict: No', 'Predict: Yes'], \n",
    "             index=['Actual: No', 'Actual: Yes'])"
   ]
  },
  {
   "cell_type": "code",
   "execution_count": 60,
   "metadata": {},
   "outputs": [
    {
     "data": {
      "text/plain": [
       "0.8080810842123233"
      ]
     },
     "execution_count": 60,
     "metadata": {},
     "output_type": "execute_result"
    }
   ],
   "source": [
    "# Generate the new roc_auc score for random forest based on the optimized parameters\n",
    "rf_proba_gs = best_rf.predict_proba(X_test)\n",
    "rf_probability_gs = [i[1] for i in rf_proba_gs]\n",
    "roc_auc_score(y_test, rf_probability_gs)"
   ]
  },
  {
   "cell_type": "markdown",
   "metadata": {},
   "source": [
    "### Random Forest ROC Curve"
   ]
  },
  {
   "cell_type": "code",
   "execution_count": 61,
   "metadata": {},
   "outputs": [
    {
     "data": {
      "image/png": "[encoded data removed]",
      "text/plain": [
       "<Figure size 1080x576 with 1 Axes>"
      ]
     },
     "metadata": {
      "image/png": {
       "height": 504,
       "width": 1002
      },
      "needs_background": "light"
     },
     "output_type": "display_data"
    }
   ],
   "source": [
    "# Calculate the fpr and tpr for all thresholds of the classification\n",
    "fpr, tpr, threshold = metrics.roc_curve(y_test,rf_probability_gs)\n",
    "roc_auc = metrics.auc(fpr, tpr)\n",
    "\n",
    "plt.figure(figsize=(15,8))\n",
    "plt.title('Random Forest ROC Curve', fontsize=20)\n",
    "plt.plot(fpr, tpr, 'b', label = 'AUC = %0.2f' % roc_auc)\n",
    "plt.legend(loc = 'lower right', fontsize=15)\n",
    "plt.plot([0, 1], [0, 1],'r--')\n",
    "plt.xlim([0, 1])\n",
    "plt.ylim([0, 1])\n",
    "plt.ylabel('True Positive Rate', fontsize=18)\n",
    "plt.xlabel('False Positive Rate', fontsize=18)\n",
    "plt.show()"
   ]
  },
  {
   "cell_type": "code",
   "execution_count": 62,
   "metadata": {},
   "outputs": [
    {
     "data": {
      "image/png": "[encoded data removed]",
      "text/plain": [
       "<Figure size 1080x576 with 1 Axes>"
      ]
     },
     "metadata": {
      "image/png": {
       "height": 483,
       "width": 1000
      },
      "needs_background": "light"
     },
     "output_type": "display_data"
    }
   ],
   "source": [
    "# Calculate model precision-recall curve\n",
    "precision, recall, _ = precision_recall_curve(y_test,rf_probability_gs)\n",
    "\n",
    "# Plot the model precision-recall curve\n",
    "plt.figure(figsize=(15,8))\n",
    "plt.plot(recall, precision, marker='.', label='Random Forest')\n",
    "plt.xlabel('Recall', fontsize=18)\n",
    "plt.ylabel('Precision', fontsize=18)\n",
    "plt.show()"
   ]
  },
  {
   "cell_type": "markdown",
   "metadata": {},
   "source": [
    "### XGBoost (without GridSearch)"
   ]
  },
  {
   "cell_type": "code",
   "execution_count": 97,
   "metadata": {},
   "outputs": [
    {
     "data": {
      "text/plain": [
       "XGBClassifier(base_score=0.5, booster='gbtree', colsample_bylevel=1,\n",
       "              colsample_bynode=1, colsample_bytree=1, gamma=0, gpu_id=-1,\n",
       "              importance_type='gain', interaction_constraints='',\n",
       "              learning_rate=0.300000012, max_delta_step=0, max_depth=6,\n",
       "              min_child_weight=1, missing=nan, monotone_constraints='()',\n",
       "              n_estimators=100, n_jobs=0, num_parallel_tree=1,\n",
       "              objective='binary:logistic', random_state=0, reg_alpha=0,\n",
       "              reg_lambda=1, scale_pos_weight=1, subsample=1,\n",
       "              tree_method='exact', validate_parameters=1, verbosity=None)"
      ]
     },
     "execution_count": 97,
     "metadata": {},
     "output_type": "execute_result"
    }
   ],
   "source": [
    "xg = XGBClassifier()\n",
    "xg.fit(X_train, y_train)"
   ]
  },
  {
   "cell_type": "code",
   "execution_count": 98,
   "metadata": {},
   "outputs": [
    {
     "name": "stdout",
     "output_type": "stream",
     "text": [
      "              precision    recall  f1-score   support\n",
      "\n",
      "           0       0.74      0.55      0.63     15891\n",
      "           1       0.74      0.87      0.80     24029\n",
      "\n",
      "    accuracy                           0.74     39920\n",
      "   macro avg       0.74      0.71      0.72     39920\n",
      "weighted avg       0.74      0.74      0.73     39920\n",
      "\n"
     ]
    }
   ],
   "source": [
    "y_pred_xg = xg.predict(X_test)\n",
    "print(classification_report(y_test, y_pred_xg))"
   ]
  },
  {
   "cell_type": "code",
   "execution_count": 99,
   "metadata": {},
   "outputs": [
    {
     "data": {
      "text/html": [
       "<div>\n",
       "<style scoped>\n",
       "    .dataframe tbody tr th:only-of-type {\n",
       "        vertical-align: middle;\n",
       "    }\n",
       "\n",
       "    .dataframe tbody tr th {\n",
       "        vertical-align: top;\n",
       "    }\n",
       "\n",
       "    .dataframe thead th {\n",
       "        text-align: right;\n",
       "    }\n",
       "</style>\n",
       "<table border=\"1\" class=\"dataframe\">\n",
       "  <thead>\n",
       "    <tr style=\"text-align: right;\">\n",
       "      <th></th>\n",
       "      <th>Predict: No</th>\n",
       "      <th>Predict: Yes</th>\n",
       "    </tr>\n",
       "  </thead>\n",
       "  <tbody>\n",
       "    <tr>\n",
       "      <th>Actual: No</th>\n",
       "      <td>8676</td>\n",
       "      <td>7215</td>\n",
       "    </tr>\n",
       "    <tr>\n",
       "      <th>Actual: Yes</th>\n",
       "      <td>3048</td>\n",
       "      <td>20981</td>\n",
       "    </tr>\n",
       "  </tbody>\n",
       "</table>\n",
       "</div>"
      ],
      "text/plain": [
       "             Predict: No  Predict: Yes\n",
       "Actual: No          8676          7215\n",
       "Actual: Yes         3048         20981"
      ]
     },
     "execution_count": 99,
     "metadata": {},
     "output_type": "execute_result"
    }
   ],
   "source": [
    "pd.DataFrame(confusion_matrix(y_test, y_pred_xg),\n",
    "             columns=['Predict: No', 'Predict: Yes'], \n",
    "             index=['Actual: No', 'Actual: Yes'])"
   ]
  },
  {
   "cell_type": "code",
   "execution_count": 100,
   "metadata": {},
   "outputs": [
    {
     "data": {
      "text/plain": [
       "0.8052949577773394"
      ]
     },
     "execution_count": 100,
     "metadata": {},
     "output_type": "execute_result"
    }
   ],
   "source": [
    "xg_proba = xg.predict_proba(X_test)\n",
    "xg_probability = [i[1] for i in xg_proba]\n",
    "roc_auc_score(y_test, xg_probability)"
   ]
  },
  {
   "cell_type": "markdown",
   "metadata": {},
   "source": [
    "### XGBoost (with GridSearch)"
   ]
  },
  {
   "cell_type": "code",
   "execution_count": 101,
   "metadata": {},
   "outputs": [
    {
     "name": "stdout",
     "output_type": "stream",
     "text": [
      "Fitting 5 folds for each of 16 candidates, totalling 80 fits\n"
     ]
    },
    {
     "name": "stderr",
     "output_type": "stream",
     "text": [
      "[Parallel(n_jobs=-1)]: Using backend LokyBackend with 8 concurrent workers.\n",
      "[Parallel(n_jobs=-1)]: Done  34 tasks      | elapsed:  6.5min\n",
      "[Parallel(n_jobs=-1)]: Done  80 out of  80 | elapsed: 26.3min finished\n"
     ]
    },
    {
     "data": {
      "text/plain": [
       "GridSearchCV(cv=5, error_score=nan,\n",
       "             estimator=XGBClassifier(base_score=0.5, booster='gbtree',\n",
       "                                     colsample_bylevel=1, colsample_bynode=1,\n",
       "                                     colsample_bytree=1, gamma=0, gpu_id=-1,\n",
       "                                     importance_type='gain',\n",
       "                                     interaction_constraints='',\n",
       "                                     learning_rate=0.300000012,\n",
       "                                     max_delta_step=0, max_depth=6,\n",
       "                                     min_child_weight=1, missing=nan,\n",
       "                                     monotone_constraints='()',\n",
       "                                     n_estimators=100, n_job...\n",
       "                                     num_parallel_tree=1,\n",
       "                                     objective='binary:logistic',\n",
       "                                     random_state=0, reg_alpha=0, reg_lambda=1,\n",
       "                                     scale_pos_weight=1, subsample=1,\n",
       "                                     tree_method='exact', validate_parameters=1,\n",
       "                                     verbosity=None),\n",
       "             iid='deprecated', n_jobs=-1,\n",
       "             param_grid={'max_depth': [3, 5, 7, 9],\n",
       "                         'n_estimators': [30, 50, 100, 300]},\n",
       "             pre_dispatch='2*n_jobs', refit=True, return_train_score=False,\n",
       "             scoring='roc_auc', verbose=1)"
      ]
     },
     "execution_count": 101,
     "metadata": {},
     "output_type": "execute_result"
    }
   ],
   "source": [
    "param_grid_xg = {'max_depth': [3, 5, 7, 9],\n",
    "                 'n_estimators': [30, 50, 100, 300]\n",
    "                }\n",
    "\n",
    "grid_xg = GridSearchCV(xg,\n",
    "                       param_grid=param_grid_xg,\n",
    "                       scoring='roc_auc',\n",
    "                       cv=5,\n",
    "                       verbose=1,\n",
    "                       n_jobs=-1)\n",
    "\n",
    "grid_xg.fit(X_train, y_train)"
   ]
  },
  {
   "cell_type": "code",
   "execution_count": 102,
   "metadata": {},
   "outputs": [
    {
     "data": {
      "text/plain": [
       "0.8535370316698327"
      ]
     },
     "execution_count": 102,
     "metadata": {},
     "output_type": "execute_result"
    }
   ],
   "source": [
    "# Training data without cross-validation\n",
    "grid_xg.score(X_train, y_train)"
   ]
  },
  {
   "cell_type": "code",
   "execution_count": 103,
   "metadata": {},
   "outputs": [
    {
     "data": {
      "text/plain": [
       "0.8081647137307517"
      ]
     },
     "execution_count": 103,
     "metadata": {},
     "output_type": "execute_result"
    }
   ],
   "source": [
    "# Score it on the testing data\n",
    "grid_xg.score(X_test, y_test)"
   ]
  },
  {
   "cell_type": "code",
   "execution_count": 104,
   "metadata": {},
   "outputs": [
    {
     "data": {
      "text/plain": [
       "0.8052612496225633"
      ]
     },
     "execution_count": 104,
     "metadata": {},
     "output_type": "execute_result"
    }
   ],
   "source": [
    "# Best score on the training data which has undergone cross-validation\n",
    "grid_xg.best_score_"
   ]
  },
  {
   "cell_type": "code",
   "execution_count": 105,
   "metadata": {},
   "outputs": [
    {
     "data": {
      "text/plain": [
       "{'max_depth': 5, 'n_estimators': 300}"
      ]
     },
     "execution_count": 105,
     "metadata": {},
     "output_type": "execute_result"
    }
   ],
   "source": [
    "grid_xg.best_params_"
   ]
  },
  {
   "cell_type": "code",
   "execution_count": 106,
   "metadata": {},
   "outputs": [
    {
     "data": {
      "text/plain": [
       "XGBClassifier(base_score=0.5, booster='gbtree', colsample_bylevel=1,\n",
       "              colsample_bynode=1, colsample_bytree=1, gamma=0, gpu_id=-1,\n",
       "              importance_type='gain', interaction_constraints='',\n",
       "              learning_rate=0.300000012, max_delta_step=0, max_depth=5,\n",
       "              min_child_weight=1, missing=nan, monotone_constraints='()',\n",
       "              n_estimators=300, n_jobs=0, num_parallel_tree=1,\n",
       "              objective='binary:logistic', random_state=0, reg_alpha=0,\n",
       "              reg_lambda=1, scale_pos_weight=1, subsample=1,\n",
       "              tree_method='exact', validate_parameters=1, verbosity=None)"
      ]
     },
     "execution_count": 106,
     "metadata": {},
     "output_type": "execute_result"
    }
   ],
   "source": [
    "# Retrieve the best hyperparameters values and retrain the model\n",
    "best_xg = grid_xg.best_estimator_\n",
    "best_xg.fit(X_train, y_train)"
   ]
  },
  {
   "cell_type": "code",
   "execution_count": 107,
   "metadata": {},
   "outputs": [
    {
     "name": "stdout",
     "output_type": "stream",
     "text": [
      "              precision    recall  f1-score   support\n",
      "\n",
      "           0       0.73      0.56      0.64     15891\n",
      "           1       0.75      0.86      0.80     24029\n",
      "\n",
      "    accuracy                           0.74     39920\n",
      "   macro avg       0.74      0.71      0.72     39920\n",
      "weighted avg       0.74      0.74      0.74     39920\n",
      "\n"
     ]
    }
   ],
   "source": [
    "xg_y_pred = best_xg.predict(X_test)\n",
    "print(classification_report(y_test, xg_y_pred))"
   ]
  },
  {
   "cell_type": "code",
   "execution_count": 108,
   "metadata": {},
   "outputs": [
    {
     "name": "stdout",
     "output_type": "stream",
     "text": [
      "True Negatives: 8963\n",
      "False Positives: 6928\n",
      "False Negatives: 3281\n",
      "True Positives: 20748\n"
     ]
    }
   ],
   "source": [
    "tn4, fp4, fn4, tp4 = confusion_matrix(y_test, xg_y_pred).ravel()\n",
    "\n",
    "print(\"True Negatives: %s\" % tn4)\n",
    "print(\"False Positives: %s\" % fp4)\n",
    "print(\"False Negatives: %s\" % fn4)\n",
    "print(\"True Positives: %s\" % tp4)"
   ]
  },
  {
   "cell_type": "code",
   "execution_count": 109,
   "metadata": {},
   "outputs": [
    {
     "data": {
      "text/html": [
       "<div>\n",
       "<style scoped>\n",
       "    .dataframe tbody tr th:only-of-type {\n",
       "        vertical-align: middle;\n",
       "    }\n",
       "\n",
       "    .dataframe tbody tr th {\n",
       "        vertical-align: top;\n",
       "    }\n",
       "\n",
       "    .dataframe thead th {\n",
       "        text-align: right;\n",
       "    }\n",
       "</style>\n",
       "<table border=\"1\" class=\"dataframe\">\n",
       "  <thead>\n",
       "    <tr style=\"text-align: right;\">\n",
       "      <th></th>\n",
       "      <th>Predict: No</th>\n",
       "      <th>Predict: Yes</th>\n",
       "    </tr>\n",
       "  </thead>\n",
       "  <tbody>\n",
       "    <tr>\n",
       "      <th>Actual: No</th>\n",
       "      <td>8963</td>\n",
       "      <td>6928</td>\n",
       "    </tr>\n",
       "    <tr>\n",
       "      <th>Actual: Yes</th>\n",
       "      <td>3281</td>\n",
       "      <td>20748</td>\n",
       "    </tr>\n",
       "  </tbody>\n",
       "</table>\n",
       "</div>"
      ],
      "text/plain": [
       "             Predict: No  Predict: Yes\n",
       "Actual: No          8963          6928\n",
       "Actual: Yes         3281         20748"
      ]
     },
     "execution_count": 109,
     "metadata": {},
     "output_type": "execute_result"
    }
   ],
   "source": [
    "# Confusion Matrix Table\n",
    "pd.DataFrame(confusion_matrix(y_test, xg_y_pred),\n",
    "             columns=['Predict: No', 'Predict: Yes'], \n",
    "             index=['Actual: No', 'Actual: Yes'])"
   ]
  },
  {
   "cell_type": "code",
   "execution_count": 110,
   "metadata": {},
   "outputs": [
    {
     "data": {
      "text/plain": [
       "0.8081647137307517"
      ]
     },
     "execution_count": 110,
     "metadata": {},
     "output_type": "execute_result"
    }
   ],
   "source": [
    "# Generate the new roc_auc score for random forest based on the optimized parameters\n",
    "xg_proba_gs = best_xg.predict_proba(X_test)\n",
    "xg_probability_gs = [i[1] for i in xg_proba_gs]\n",
    "roc_auc_score(y_test, xg_probability_gs)"
   ]
  },
  {
   "cell_type": "code",
   "execution_count": 111,
   "metadata": {},
   "outputs": [
    {
     "data": {
      "image/png": "[encoded data removed]",
      "text/plain": [
       "<Figure size 1080x576 with 1 Axes>"
      ]
     },
     "metadata": {
      "image/png": {
       "height": 504,
       "width": 1002
      },
      "needs_background": "light"
     },
     "output_type": "display_data"
    }
   ],
   "source": [
    "# Calculate the fpr and tpr for all thresholds of the classification\n",
    "fpr, tpr, threshold = metrics.roc_curve(y_test,xg_probability_gs)\n",
    "roc_auc = metrics.auc(fpr, tpr)\n",
    "\n",
    "plt.figure(figsize=(15,8))\n",
    "plt.title('XGBoost ROC Curve', fontsize=20)\n",
    "plt.plot(fpr, tpr, 'b', label = 'AUC = %0.2f' % roc_auc)\n",
    "plt.legend(loc = 'lower right', fontsize=15)\n",
    "plt.plot([0, 1], [0, 1],'r--')\n",
    "plt.xlim([0, 1])\n",
    "plt.ylim([0, 1])\n",
    "plt.ylabel('True Positive Rate', fontsize=18)\n",
    "plt.xlabel('False Positive Rate', fontsize=18)\n",
    "plt.show()"
   ]
  },
  {
   "cell_type": "code",
   "execution_count": 112,
   "metadata": {},
   "outputs": [
    {
     "data": {
      "image/png": "[encoded data removed]",
      "text/plain": [
       "<Figure size 1080x576 with 1 Axes>"
      ]
     },
     "metadata": {
      "image/png": {
       "height": 483,
       "width": 1000
      },
      "needs_background": "light"
     },
     "output_type": "display_data"
    }
   ],
   "source": [
    "# Calculate model precision-recall curve\n",
    "precision, recall, _ = precision_recall_curve(y_test,xg_probability_gs)\n",
    "\n",
    "# Plot the model precision-recall curve\n",
    "plt.figure(figsize=(15,8))\n",
    "plt.plot(recall, precision, marker='.', label='XGBoost')\n",
    "plt.xlabel('Recall', fontsize=18)\n",
    "plt.ylabel('Precision', fontsize=18)\n",
    "plt.show()"
   ]
  },
  {
   "cell_type": "markdown",
   "metadata": {},
   "source": [
    "### Model Evaluation & Selection"
   ]
  },
  {
   "cell_type": "code",
   "execution_count": 114,
   "metadata": {},
   "outputs": [],
   "source": [
    "lr_cr = classification_report(y_test,lr_y_pred,output_dict=True)\n",
    "knn_cr = classification_report(y_test,knn_y_pred,output_dict=True)\n",
    "random_cr = classification_report(y_test,gs_y_pred,output_dict=True)\n",
    "xg_cr = classification_report(y_test,xg_y_pred,output_dict=True)"
   ]
  },
  {
   "cell_type": "code",
   "execution_count": 115,
   "metadata": {},
   "outputs": [
    {
     "data": {
      "text/html": [
       "<div>\n",
       "<style scoped>\n",
       "    .dataframe tbody tr th:only-of-type {\n",
       "        vertical-align: middle;\n",
       "    }\n",
       "\n",
       "    .dataframe tbody tr th {\n",
       "        vertical-align: top;\n",
       "    }\n",
       "\n",
       "    .dataframe thead th {\n",
       "        text-align: right;\n",
       "    }\n",
       "</style>\n",
       "<table border=\"1\" class=\"dataframe\">\n",
       "  <thead>\n",
       "    <tr style=\"text-align: right;\">\n",
       "      <th></th>\n",
       "      <th>Model</th>\n",
       "      <th>Accuracy Score</th>\n",
       "      <th>Precision: 0</th>\n",
       "      <th>Precision: 1</th>\n",
       "      <th>Recall: 0</th>\n",
       "      <th>Recall: 1</th>\n",
       "      <th>f1:0</th>\n",
       "      <th>f1:1</th>\n",
       "      <th>ROC AUC Score</th>\n",
       "      <th>CV Train Score</th>\n",
       "    </tr>\n",
       "  </thead>\n",
       "  <tbody>\n",
       "    <tr>\n",
       "      <th>0</th>\n",
       "      <td>Baseline Model</td>\n",
       "      <td>0.601924</td>\n",
       "      <td>NA</td>\n",
       "      <td>NA</td>\n",
       "      <td>NA</td>\n",
       "      <td>NA</td>\n",
       "      <td>NA</td>\n",
       "      <td>NA</td>\n",
       "      <td>NA</td>\n",
       "      <td>NA</td>\n",
       "    </tr>\n",
       "    <tr>\n",
       "      <th>1</th>\n",
       "      <td>Logistic Regression</td>\n",
       "      <td>0.701979</td>\n",
       "      <td>0.722136</td>\n",
       "      <td>0.69612</td>\n",
       "      <td>0.408533</td>\n",
       "      <td>0.896042</td>\n",
       "      <td>0.521844</td>\n",
       "      <td>0.78353</td>\n",
       "      <td>0.726681</td>\n",
       "      <td>0.727458</td>\n",
       "    </tr>\n",
       "    <tr>\n",
       "      <th>2</th>\n",
       "      <td>KNN</td>\n",
       "      <td>0.701979</td>\n",
       "      <td>0.606446</td>\n",
       "      <td>0.711739</td>\n",
       "      <td>0.525769</td>\n",
       "      <td>0.774356</td>\n",
       "      <td>0.563233</td>\n",
       "      <td>0.741728</td>\n",
       "      <td>0.705066</td>\n",
       "      <td>0.701765</td>\n",
       "    </tr>\n",
       "    <tr>\n",
       "      <th>3</th>\n",
       "      <td>Random Forest</td>\n",
       "      <td>0.746042</td>\n",
       "      <td>0.754715</td>\n",
       "      <td>0.742621</td>\n",
       "      <td>0.536341</td>\n",
       "      <td>0.884723</td>\n",
       "      <td>0.62706</td>\n",
       "      <td>0.807467</td>\n",
       "      <td>0.808081</td>\n",
       "      <td>0.804996</td>\n",
       "    </tr>\n",
       "    <tr>\n",
       "      <th>4</th>\n",
       "      <td>XGBoost</td>\n",
       "      <td>0.744264</td>\n",
       "      <td>0.732032</td>\n",
       "      <td>0.749675</td>\n",
       "      <td>0.56403</td>\n",
       "      <td>0.863457</td>\n",
       "      <td>0.637142</td>\n",
       "      <td>0.802553</td>\n",
       "      <td>0.808165</td>\n",
       "      <td>0.805261</td>\n",
       "    </tr>\n",
       "  </tbody>\n",
       "</table>\n",
       "</div>"
      ],
      "text/plain": [
       "                 Model  Accuracy Score Precision: 0 Precision: 1 Recall: 0  \\\n",
       "0       Baseline Model        0.601924           NA           NA        NA   \n",
       "1  Logistic Regression        0.701979     0.722136      0.69612  0.408533   \n",
       "2                  KNN        0.701979     0.606446     0.711739  0.525769   \n",
       "3        Random Forest        0.746042     0.754715     0.742621  0.536341   \n",
       "4              XGBoost        0.744264     0.732032     0.749675   0.56403   \n",
       "\n",
       "  Recall: 1      f1:0      f1:1 ROC AUC Score CV Train Score  \n",
       "0        NA        NA        NA            NA             NA  \n",
       "1  0.896042  0.521844   0.78353      0.726681       0.727458  \n",
       "2  0.774356  0.563233  0.741728      0.705066       0.701765  \n",
       "3  0.884723   0.62706  0.807467      0.808081       0.804996  \n",
       "4  0.863457  0.637142  0.802553      0.808165       0.805261  "
      ]
     },
     "execution_count": 115,
     "metadata": {},
     "output_type": "execute_result"
    }
   ],
   "source": [
    "result =[['Baseline Model',baseline_accuracy,'NA','NA','NA','NA','NA','NA','NA','NA'],\n",
    "         ['Logistic Regression',\n",
    "              lr_cr['accuracy'],\n",
    "              lr_cr['0']['precision'],\n",
    "              lr_cr['1']['precision'],\n",
    "              lr_cr['0']['recall'],\n",
    "              lr_cr['1']['recall'],\n",
    "              lr_cr['0']['f1-score'],\n",
    "              lr_cr['1']['f1-score'],\n",
    "              roc_auc_score(y_test, lr_probability_gs),\n",
    "              grid_lr.best_score_ ],\n",
    "         ['KNN',\n",
    "              lr_cr['accuracy'],\n",
    "              knn_cr['0']['precision'],\n",
    "              knn_cr['1']['precision'],\n",
    "              knn_cr['0']['recall'],\n",
    "              knn_cr['1']['recall'],\n",
    "              knn_cr['0']['f1-score'],\n",
    "              knn_cr['1']['f1-score'],\n",
    "              roc_auc_score(y_test,knn_probability_gs),\n",
    "              grid_knn.best_score_ ],\n",
    "         ['Random Forest',\n",
    "              random_cr['accuracy'],\n",
    "              random_cr['0']['precision'],\n",
    "              random_cr['1']['precision'],\n",
    "              random_cr['0']['recall'],\n",
    "              random_cr['1']['recall'],\n",
    "              random_cr['0']['f1-score'],\n",
    "              random_cr['1']['f1-score'],\n",
    "              roc_auc_score(y_test, rf_probability_gs),\n",
    "              grid_rf.best_score_ ],\n",
    "         ['XGBoost',\n",
    "              xg_cr['accuracy'],\n",
    "              xg_cr['0']['precision'],\n",
    "              xg_cr['1']['precision'],\n",
    "              xg_cr['0']['recall'],\n",
    "              xg_cr['1']['recall'],\n",
    "              xg_cr['0']['f1-score'],\n",
    "              xg_cr['1']['f1-score'],\n",
    "              roc_auc_score(y_test, xg_probability_gs),\n",
    "              grid_xg.best_score_ ]]\n",
    "         \n",
    "score = pd.DataFrame(result, columns=['Model', \n",
    "                                      'Accuracy Score',\n",
    "                                      'Precision: 0',\n",
    "                                      'Precision: 1',\n",
    "                                      'Recall: 0',\n",
    "                                      'Recall: 1',\n",
    "                                      'f1:0',\n",
    "                                      'f1:1',\n",
    "                                      'ROC AUC Score',\n",
    "                                      'CV Train Score'])\n",
    "score"
   ]
  },
  {
   "cell_type": "markdown",
   "metadata": {},
   "source": [
    "### Important Features (Random Forest Classifier)"
   ]
  },
  {
   "cell_type": "code",
   "execution_count": 90,
   "metadata": {},
   "outputs": [
    {
     "data": {
      "text/html": [
       "<div>\n",
       "<style scoped>\n",
       "    .dataframe tbody tr th:only-of-type {\n",
       "        vertical-align: middle;\n",
       "    }\n",
       "\n",
       "    .dataframe tbody tr th {\n",
       "        vertical-align: top;\n",
       "    }\n",
       "\n",
       "    .dataframe thead th {\n",
       "        text-align: right;\n",
       "    }\n",
       "</style>\n",
       "<table border=\"1\" class=\"dataframe\">\n",
       "  <thead>\n",
       "    <tr style=\"text-align: right;\">\n",
       "      <th></th>\n",
       "      <th>Features</th>\n",
       "      <th>Importance</th>\n",
       "    </tr>\n",
       "  </thead>\n",
       "  <tbody>\n",
       "    <tr>\n",
       "      <th>9</th>\n",
       "      <td>agegroup_unknown</td>\n",
       "      <td>0.112776</td>\n",
       "    </tr>\n",
       "    <tr>\n",
       "      <th>1</th>\n",
       "      <td>latitude</td>\n",
       "      <td>0.107332</td>\n",
       "    </tr>\n",
       "    <tr>\n",
       "      <th>2</th>\n",
       "      <td>longitude</td>\n",
       "      <td>0.106287</td>\n",
       "    </tr>\n",
       "    <tr>\n",
       "      <th>10</th>\n",
       "      <td>num_males</td>\n",
       "      <td>0.098256</td>\n",
       "    </tr>\n",
       "    <tr>\n",
       "      <th>8</th>\n",
       "      <td>agegroup_adult</td>\n",
       "      <td>0.085843</td>\n",
       "    </tr>\n",
       "    <tr>\n",
       "      <th>3</th>\n",
       "      <td>state_house_district</td>\n",
       "      <td>0.071433</td>\n",
       "    </tr>\n",
       "    <tr>\n",
       "      <th>4</th>\n",
       "      <td>state_senate_district</td>\n",
       "      <td>0.062462</td>\n",
       "    </tr>\n",
       "    <tr>\n",
       "      <th>5</th>\n",
       "      <td>day</td>\n",
       "      <td>0.049753</td>\n",
       "    </tr>\n",
       "    <tr>\n",
       "      <th>0</th>\n",
       "      <td>congressional_district</td>\n",
       "      <td>0.048904</td>\n",
       "    </tr>\n",
       "    <tr>\n",
       "      <th>11</th>\n",
       "      <td>num_females</td>\n",
       "      <td>0.019231</td>\n",
       "    </tr>\n",
       "    <tr>\n",
       "      <th>44</th>\n",
       "      <td>state_Illinois</td>\n",
       "      <td>0.016934</td>\n",
       "    </tr>\n",
       "    <tr>\n",
       "      <th>7</th>\n",
       "      <td>agegroup_teen</td>\n",
       "      <td>0.012624</td>\n",
       "    </tr>\n",
       "    <tr>\n",
       "      <th>19</th>\n",
       "      <td>month_Mar</td>\n",
       "      <td>0.008167</td>\n",
       "    </tr>\n",
       "    <tr>\n",
       "      <th>16</th>\n",
       "      <td>month_Jan</td>\n",
       "      <td>0.007257</td>\n",
       "    </tr>\n",
       "    <tr>\n",
       "      <th>27</th>\n",
       "      <td>day_of_week_Sun</td>\n",
       "      <td>0.007094</td>\n",
       "    </tr>\n",
       "    <tr>\n",
       "      <th>15</th>\n",
       "      <td>month_Feb</td>\n",
       "      <td>0.006965</td>\n",
       "    </tr>\n",
       "    <tr>\n",
       "      <th>26</th>\n",
       "      <td>day_of_week_Sat</td>\n",
       "      <td>0.006934</td>\n",
       "    </tr>\n",
       "    <tr>\n",
       "      <th>13</th>\n",
       "      <td>month_Aug</td>\n",
       "      <td>0.006920</td>\n",
       "    </tr>\n",
       "    <tr>\n",
       "      <th>18</th>\n",
       "      <td>month_Jun</td>\n",
       "      <td>0.006860</td>\n",
       "    </tr>\n",
       "    <tr>\n",
       "      <th>17</th>\n",
       "      <td>month_Jul</td>\n",
       "      <td>0.006839</td>\n",
       "    </tr>\n",
       "  </tbody>\n",
       "</table>\n",
       "</div>"
      ],
      "text/plain": [
       "                  Features  Importance\n",
       "9         agegroup_unknown    0.112776\n",
       "1                 latitude    0.107332\n",
       "2                longitude    0.106287\n",
       "10               num_males    0.098256\n",
       "8           agegroup_adult    0.085843\n",
       "3     state_house_district    0.071433\n",
       "4    state_senate_district    0.062462\n",
       "5                      day    0.049753\n",
       "0   congressional_district    0.048904\n",
       "11             num_females    0.019231\n",
       "44          state_Illinois    0.016934\n",
       "7            agegroup_teen    0.012624\n",
       "19               month_Mar    0.008167\n",
       "16               month_Jan    0.007257\n",
       "27         day_of_week_Sun    0.007094\n",
       "15               month_Feb    0.006965\n",
       "26         day_of_week_Sat    0.006934\n",
       "13               month_Aug    0.006920\n",
       "18               month_Jun    0.006860\n",
       "17               month_Jul    0.006839"
      ]
     },
     "execution_count": 90,
     "metadata": {},
     "output_type": "execute_result"
    }
   ],
   "source": [
    "# Examining the important features of the random forest model\n",
    "RF_Imp_Features = pd.DataFrame({'Features':X_train.columns,'Importance':best_rf.feature_importances_})\n",
    "RF_Imp_Features.sort_values(by='Importance', ascending=False).head(20)"
   ]
  },
  {
   "cell_type": "code",
   "execution_count": null,
   "metadata": {},
   "outputs": [],
   "source": []
  }
 ],
 "metadata": {
  "kernelspec": {
   "display_name": "Python 3",
   "language": "python",
   "name": "python3"
  }
 },
 "nbformat": 4,
 "nbformat_minor": 4
}
